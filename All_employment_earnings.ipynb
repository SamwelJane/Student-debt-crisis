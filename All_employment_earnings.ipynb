{
 "cells": [
  {
   "cell_type": "code",
   "execution_count": 1,
   "metadata": {},
   "outputs": [],
   "source": [
    "# libraries\n",
    "import pandas as pd\n",
    "import numpy as np\n",
    "from sklearn.preprocessing import StandardScaler\n",
    "from sklearn.decomposition import PCA\n",
    "from sklearn import datasets\n",
    "import matplotlib.pyplot as plt\n",
    "import seaborn as sns\n",
    "sns.set_style(\"whitegrid\")\n",
    "import warnings\n",
    "warnings='ignore'\n",
    "from sklearn.cluster import KMeans\n",
    "import os\n",
    "\n",
    "import math\n",
    "%matplotlib inline"
   ]
  },
  {
   "cell_type": "code",
   "execution_count": 2,
   "metadata": {},
   "outputs": [
    {
     "name": "stderr",
     "output_type": "stream",
     "text": [
      "/Users/macos/anaconda3/lib/python3.7/site-packages/IPython/core/interactiveshell.py:3049: DtypeWarning: Columns (4,9,11) have mixed types.Specify dtype option on import or set low_memory=False.\n",
      "  interactivity=interactivity, compiler=compiler, result=result)\n"
     ]
    }
   ],
   "source": [
    "employment=pd.read_csv('/Users/macos/Desktop/student crisis/Long_empl_household_dynamics/all_employement_flow.csv')\n",
    "earnings=pd.read_csv('/Users/macos/Desktop/student crisis/Long_empl_household_dynamics/all_earnings.csv')"
   ]
  },
  {
   "cell_type": "code",
   "execution_count": 3,
   "metadata": {},
   "outputs": [
    {
     "data": {
      "text/html": [
       "<div>\n",
       "<style scoped>\n",
       "    .dataframe tbody tr th:only-of-type {\n",
       "        vertical-align: middle;\n",
       "    }\n",
       "\n",
       "    .dataframe tbody tr th {\n",
       "        vertical-align: top;\n",
       "    }\n",
       "\n",
       "    .dataframe thead th {\n",
       "        text-align: right;\n",
       "    }\n",
       "</style>\n",
       "<table border=\"1\" class=\"dataframe\">\n",
       "  <thead>\n",
       "    <tr style=\"text-align: right;\">\n",
       "      <th></th>\n",
       "      <th>agg_level_pseo</th>\n",
       "      <th>inst_level</th>\n",
       "      <th>institution</th>\n",
       "      <th>degree_level</th>\n",
       "      <th>cip_level</th>\n",
       "      <th>cipcode</th>\n",
       "      <th>grad_cohort</th>\n",
       "      <th>grad_cohort_years</th>\n",
       "      <th>geo_level</th>\n",
       "      <th>geography</th>\n",
       "      <th>...</th>\n",
       "      <th>y5_grads_emp</th>\n",
       "      <th>y5_grads_emp_instate</th>\n",
       "      <th>y10_grads_emp</th>\n",
       "      <th>y10_grads_emp_instate</th>\n",
       "      <th>status_y1_grads_emp</th>\n",
       "      <th>status_y1_grads_emp_instate</th>\n",
       "      <th>status_y5_grads_emp</th>\n",
       "      <th>status_y5_grads_emp_instate</th>\n",
       "      <th>status_y10_grads_emp</th>\n",
       "      <th>status_y10_grads_emp_instate</th>\n",
       "    </tr>\n",
       "  </thead>\n",
       "  <tbody>\n",
       "    <tr>\n",
       "      <th>0</th>\n",
       "      <td>38</td>\n",
       "      <td>I</td>\n",
       "      <td>1345</td>\n",
       "      <td>3</td>\n",
       "      <td>A</td>\n",
       "      <td>0</td>\n",
       "      <td>0</td>\n",
       "      <td>5</td>\n",
       "      <td>N</td>\n",
       "      <td>0</td>\n",
       "      <td>...</td>\n",
       "      <td>321.0</td>\n",
       "      <td>78.0</td>\n",
       "      <td>80.0</td>\n",
       "      <td>31.0</td>\n",
       "      <td>1</td>\n",
       "      <td>1</td>\n",
       "      <td>1</td>\n",
       "      <td>1</td>\n",
       "      <td>1</td>\n",
       "      <td>1</td>\n",
       "    </tr>\n",
       "    <tr>\n",
       "      <th>1</th>\n",
       "      <td>38</td>\n",
       "      <td>I</td>\n",
       "      <td>1345</td>\n",
       "      <td>5</td>\n",
       "      <td>A</td>\n",
       "      <td>0</td>\n",
       "      <td>0</td>\n",
       "      <td>3</td>\n",
       "      <td>N</td>\n",
       "      <td>0</td>\n",
       "      <td>...</td>\n",
       "      <td>3691.0</td>\n",
       "      <td>1505.0</td>\n",
       "      <td>1604.0</td>\n",
       "      <td>750.0</td>\n",
       "      <td>1</td>\n",
       "      <td>1</td>\n",
       "      <td>1</td>\n",
       "      <td>1</td>\n",
       "      <td>1</td>\n",
       "      <td>1</td>\n",
       "    </tr>\n",
       "  </tbody>\n",
       "</table>\n",
       "<p>2 rows × 24 columns</p>\n",
       "</div>"
      ],
      "text/plain": [
       "   agg_level_pseo inst_level  institution  degree_level cip_level  cipcode  \\\n",
       "0              38          I         1345             3         A        0   \n",
       "1              38          I         1345             5         A        0   \n",
       "\n",
       "   grad_cohort  grad_cohort_years geo_level geography  ... y5_grads_emp  \\\n",
       "0            0                  5         N         0  ...        321.0   \n",
       "1            0                  3         N         0  ...       3691.0   \n",
       "\n",
       "  y5_grads_emp_instate  y10_grads_emp  y10_grads_emp_instate  \\\n",
       "0                 78.0           80.0                   31.0   \n",
       "1               1505.0         1604.0                  750.0   \n",
       "\n",
       "   status_y1_grads_emp  status_y1_grads_emp_instate  status_y5_grads_emp  \\\n",
       "0                    1                            1                    1   \n",
       "1                    1                            1                    1   \n",
       "\n",
       "   status_y5_grads_emp_instate  status_y10_grads_emp  \\\n",
       "0                            1                     1   \n",
       "1                            1                     1   \n",
       "\n",
       "   status_y10_grads_emp_instate  \n",
       "0                             1  \n",
       "1                             1  \n",
       "\n",
       "[2 rows x 24 columns]"
      ]
     },
     "execution_count": 3,
     "metadata": {},
     "output_type": "execute_result"
    }
   ],
   "source": [
    "employment.head(2)"
   ]
  },
  {
   "cell_type": "code",
   "execution_count": 4,
   "metadata": {},
   "outputs": [
    {
     "data": {
      "text/html": [
       "<div>\n",
       "<style scoped>\n",
       "    .dataframe tbody tr th:only-of-type {\n",
       "        vertical-align: middle;\n",
       "    }\n",
       "\n",
       "    .dataframe tbody tr th {\n",
       "        vertical-align: top;\n",
       "    }\n",
       "\n",
       "    .dataframe thead th {\n",
       "        text-align: right;\n",
       "    }\n",
       "</style>\n",
       "<table border=\"1\" class=\"dataframe\">\n",
       "  <thead>\n",
       "    <tr style=\"text-align: right;\">\n",
       "      <th></th>\n",
       "      <th>agg_level_pseo</th>\n",
       "      <th>inst_level</th>\n",
       "      <th>institution</th>\n",
       "      <th>degree_level</th>\n",
       "      <th>cip_level</th>\n",
       "      <th>cipcode</th>\n",
       "      <th>grad_cohort</th>\n",
       "      <th>grad_cohort_years</th>\n",
       "      <th>geo_level</th>\n",
       "      <th>geography</th>\n",
       "      <th>...</th>\n",
       "      <th>y1_ipeds_count</th>\n",
       "      <th>y5_ipeds_count</th>\n",
       "      <th>y10_ipeds_count</th>\n",
       "      <th>status_y1_earnings</th>\n",
       "      <th>status_y1_grads_earn</th>\n",
       "      <th>status_y5_earnings</th>\n",
       "      <th>status_y5_grads_earn</th>\n",
       "      <th>status_y10_earnings</th>\n",
       "      <th>status_y10_grads_earn</th>\n",
       "      <th>status_ipeds_count</th>\n",
       "    </tr>\n",
       "  </thead>\n",
       "  <tbody>\n",
       "    <tr>\n",
       "      <th>0</th>\n",
       "      <td>38</td>\n",
       "      <td>I</td>\n",
       "      <td>1345</td>\n",
       "      <td>3</td>\n",
       "      <td>A</td>\n",
       "      <td>00</td>\n",
       "      <td>0</td>\n",
       "      <td>5</td>\n",
       "      <td>N</td>\n",
       "      <td>0</td>\n",
       "      <td>...</td>\n",
       "      <td>886.0</td>\n",
       "      <td>253.0</td>\n",
       "      <td>126.0</td>\n",
       "      <td>1</td>\n",
       "      <td>1</td>\n",
       "      <td>1</td>\n",
       "      <td>1</td>\n",
       "      <td>1</td>\n",
       "      <td>1</td>\n",
       "      <td>1.0</td>\n",
       "    </tr>\n",
       "    <tr>\n",
       "      <th>1</th>\n",
       "      <td>38</td>\n",
       "      <td>I</td>\n",
       "      <td>1345</td>\n",
       "      <td>5</td>\n",
       "      <td>A</td>\n",
       "      <td>00</td>\n",
       "      <td>0</td>\n",
       "      <td>3</td>\n",
       "      <td>N</td>\n",
       "      <td>0</td>\n",
       "      <td>...</td>\n",
       "      <td>4786.0</td>\n",
       "      <td>3629.0</td>\n",
       "      <td>1742.0</td>\n",
       "      <td>1</td>\n",
       "      <td>1</td>\n",
       "      <td>1</td>\n",
       "      <td>1</td>\n",
       "      <td>1</td>\n",
       "      <td>1</td>\n",
       "      <td>1.0</td>\n",
       "    </tr>\n",
       "  </tbody>\n",
       "</table>\n",
       "<p>2 rows × 34 columns</p>\n",
       "</div>"
      ],
      "text/plain": [
       "   agg_level_pseo inst_level  institution  degree_level cip_level cipcode  \\\n",
       "0              38          I         1345             3         A      00   \n",
       "1              38          I         1345             5         A      00   \n",
       "\n",
       "   grad_cohort  grad_cohort_years geo_level  geography  ... y1_ipeds_count  \\\n",
       "0            0                  5         N          0  ...          886.0   \n",
       "1            0                  3         N          0  ...         4786.0   \n",
       "\n",
       "   y5_ipeds_count  y10_ipeds_count  status_y1_earnings  status_y1_grads_earn  \\\n",
       "0           253.0            126.0                   1                     1   \n",
       "1          3629.0           1742.0                   1                     1   \n",
       "\n",
       "   status_y5_earnings  status_y5_grads_earn  status_y10_earnings  \\\n",
       "0                   1                     1                    1   \n",
       "1                   1                     1                    1   \n",
       "\n",
       "   status_y10_grads_earn  status_ipeds_count  \n",
       "0                      1                 1.0  \n",
       "1                      1                 1.0  \n",
       "\n",
       "[2 rows x 34 columns]"
      ]
     },
     "execution_count": 4,
     "metadata": {},
     "output_type": "execute_result"
    }
   ],
   "source": [
    "earnings.head(2)"
   ]
  },
  {
   "cell_type": "code",
   "execution_count": 5,
   "metadata": {},
   "outputs": [
    {
     "data": {
      "text/plain": [
       "Index(['agg_level_pseo', 'inst_level', 'institution', 'degree_level',\n",
       "       'cip_level', 'cipcode', 'grad_cohort', 'grad_cohort_years', 'geo_level',\n",
       "       'geography', 'ind_level', 'industry', 'y1_grads_emp',\n",
       "       'y1_grads_emp_instate', 'y5_grads_emp', 'y5_grads_emp_instate',\n",
       "       'y10_grads_emp', 'y10_grads_emp_instate', 'status_y1_grads_emp',\n",
       "       'status_y1_grads_emp_instate', 'status_y5_grads_emp',\n",
       "       'status_y5_grads_emp_instate', 'status_y10_grads_emp',\n",
       "       'status_y10_grads_emp_instate'],\n",
       "      dtype='object')"
      ]
     },
     "execution_count": 5,
     "metadata": {},
     "output_type": "execute_result"
    }
   ],
   "source": [
    "employment.columns"
   ]
  },
  {
   "cell_type": "code",
   "execution_count": 32,
   "metadata": {},
   "outputs": [],
   "source": [
    "# calculate the percentage of graduate employed in the same state of their institution\n",
    "employment['percentage_instate_1']= (employment.y1_grads_emp_instate / employment.y1_grads_emp)*100\n",
    "employment['percentage_instate_5']= (employment.y5_grads_emp_instate / employment.y5_grads_emp)*100\n",
    "employment['percentage_instate_10']= (employment.y10_grads_emp_instate / employment.y10_grads_emp)*100\n",
    "\n"
   ]
  },
  {
   "cell_type": "code",
   "execution_count": 33,
   "metadata": {},
   "outputs": [
    {
     "data": {
      "text/plain": [
       "0          38.750000\n",
       "1          46.758105\n",
       "2          64.187328\n",
       "3          44.146079\n",
       "4          56.356488\n",
       "             ...    \n",
       "1679074     0.000000\n",
       "1679075     0.000000\n",
       "1679076     0.000000\n",
       "1679077     0.000000\n",
       "1679078     0.000000\n",
       "Name: percentage_instate_10, Length: 1679079, dtype: float64"
      ]
     },
     "execution_count": 33,
     "metadata": {},
     "output_type": "execute_result"
    }
   ],
   "source": [
    "employment['percentage_instate_1'].fillna(0)\n",
    "employment['percentage_instate_5'].fillna(0)\n",
    "employment['percentage_instate_10'].fillna(0)"
   ]
  },
  {
   "cell_type": "markdown",
   "metadata": {},
   "source": [
    "# Employment flow"
   ]
  },
  {
   "cell_type": "code",
   "execution_count": 38,
   "metadata": {},
   "outputs": [
    {
     "data": {
      "text/html": [
       "<div>\n",
       "<style scoped>\n",
       "    .dataframe tbody tr th:only-of-type {\n",
       "        vertical-align: middle;\n",
       "    }\n",
       "\n",
       "    .dataframe tbody tr th {\n",
       "        vertical-align: top;\n",
       "    }\n",
       "\n",
       "    .dataframe thead th {\n",
       "        text-align: right;\n",
       "    }\n",
       "</style>\n",
       "<table border=\"1\" class=\"dataframe\">\n",
       "  <thead>\n",
       "    <tr style=\"text-align: right;\">\n",
       "      <th></th>\n",
       "      <th>y1_grads_emp</th>\n",
       "    </tr>\n",
       "    <tr>\n",
       "      <th>institution</th>\n",
       "      <th></th>\n",
       "    </tr>\n",
       "  </thead>\n",
       "  <tbody>\n",
       "    <tr>\n",
       "      <th>3658</th>\n",
       "      <td>3036532.0</td>\n",
       "    </tr>\n",
       "    <tr>\n",
       "      <th>2325</th>\n",
       "      <td>2579952.0</td>\n",
       "    </tr>\n",
       "    <tr>\n",
       "      <th>3895</th>\n",
       "      <td>2402760.0</td>\n",
       "    </tr>\n",
       "    <tr>\n",
       "      <th>1370</th>\n",
       "      <td>1718008.0</td>\n",
       "    </tr>\n",
       "    <tr>\n",
       "      <th>3656</th>\n",
       "      <td>1459716.0</td>\n",
       "    </tr>\n",
       "    <tr>\n",
       "      <th>1350</th>\n",
       "      <td>1428044.0</td>\n",
       "    </tr>\n",
       "    <tr>\n",
       "      <th>10115</th>\n",
       "      <td>1085044.0</td>\n",
       "    </tr>\n",
       "    <tr>\n",
       "      <th>4508</th>\n",
       "      <td>950888.0</td>\n",
       "    </tr>\n",
       "    <tr>\n",
       "      <th>9741</th>\n",
       "      <td>913976.0</td>\n",
       "    </tr>\n",
       "    <tr>\n",
       "      <th>3661</th>\n",
       "      <td>778388.0</td>\n",
       "    </tr>\n",
       "  </tbody>\n",
       "</table>\n",
       "</div>"
      ],
      "text/plain": [
       "             y1_grads_emp\n",
       "institution              \n",
       "3658            3036532.0\n",
       "2325            2579952.0\n",
       "3895            2402760.0\n",
       "1370            1718008.0\n",
       "3656            1459716.0\n",
       "1350            1428044.0\n",
       "10115           1085044.0\n",
       "4508             950888.0\n",
       "9741             913976.0\n",
       "3661             778388.0"
      ]
     },
     "execution_count": 38,
     "metadata": {},
     "output_type": "execute_result"
    }
   ],
   "source": [
    "# Group instiontion to number of graduates employee- YEAR 1\n",
    "emp_institution_year1=employment.groupby('institution')\n",
    "empl_y1=emp_institution_year1['y1_grads_emp'].sum().sort_values(ascending=False)\n",
    "pp1=pd.DataFrame(empl_y1.head(15))\n",
    "pp1.head(10)\n",
    "                 "
   ]
  },
  {
   "cell_type": "code",
   "execution_count": 37,
   "metadata": {},
   "outputs": [
    {
     "data": {
      "text/html": [
       "<div>\n",
       "<style scoped>\n",
       "    .dataframe tbody tr th:only-of-type {\n",
       "        vertical-align: middle;\n",
       "    }\n",
       "\n",
       "    .dataframe tbody tr th {\n",
       "        vertical-align: top;\n",
       "    }\n",
       "\n",
       "    .dataframe thead th {\n",
       "        text-align: right;\n",
       "    }\n",
       "</style>\n",
       "<table border=\"1\" class=\"dataframe\">\n",
       "  <thead>\n",
       "    <tr style=\"text-align: right;\">\n",
       "      <th></th>\n",
       "      <th>y5_grads_emp</th>\n",
       "    </tr>\n",
       "    <tr>\n",
       "      <th>institution</th>\n",
       "      <th></th>\n",
       "    </tr>\n",
       "  </thead>\n",
       "  <tbody>\n",
       "    <tr>\n",
       "      <th>3658</th>\n",
       "      <td>2277188.0</td>\n",
       "    </tr>\n",
       "    <tr>\n",
       "      <th>2325</th>\n",
       "      <td>1826460.0</td>\n",
       "    </tr>\n",
       "    <tr>\n",
       "      <th>3895</th>\n",
       "      <td>1770056.0</td>\n",
       "    </tr>\n",
       "    <tr>\n",
       "      <th>1370</th>\n",
       "      <td>1301556.0</td>\n",
       "    </tr>\n",
       "    <tr>\n",
       "      <th>1350</th>\n",
       "      <td>1033172.0</td>\n",
       "    </tr>\n",
       "    <tr>\n",
       "      <th>3656</th>\n",
       "      <td>955296.0</td>\n",
       "    </tr>\n",
       "    <tr>\n",
       "      <th>10115</th>\n",
       "      <td>779412.0</td>\n",
       "    </tr>\n",
       "    <tr>\n",
       "      <th>4508</th>\n",
       "      <td>623428.0</td>\n",
       "    </tr>\n",
       "    <tr>\n",
       "      <th>9741</th>\n",
       "      <td>605056.0</td>\n",
       "    </tr>\n",
       "    <tr>\n",
       "      <th>3661</th>\n",
       "      <td>544156.0</td>\n",
       "    </tr>\n",
       "  </tbody>\n",
       "</table>\n",
       "</div>"
      ],
      "text/plain": [
       "             y5_grads_emp\n",
       "institution              \n",
       "3658            2277188.0\n",
       "2325            1826460.0\n",
       "3895            1770056.0\n",
       "1370            1301556.0\n",
       "1350            1033172.0\n",
       "3656             955296.0\n",
       "10115            779412.0\n",
       "4508             623428.0\n",
       "9741             605056.0\n",
       "3661             544156.0"
      ]
     },
     "execution_count": 37,
     "metadata": {},
     "output_type": "execute_result"
    }
   ],
   "source": [
    "# Group instiontion to number of graduates employee- YEAR 1\n",
    "emp_institution_year5=employment.groupby('institution')\n",
    "empl_y5=emp_institution_year5['y5_grads_emp'].sum().sort_values(ascending=False)\n",
    "pp=pd.DataFrame(empl_y5.head(15))\n",
    "pp.head(10)"
   ]
  },
  {
   "cell_type": "code",
   "execution_count": 39,
   "metadata": {},
   "outputs": [
    {
     "data": {
      "text/html": [
       "<div>\n",
       "<style scoped>\n",
       "    .dataframe tbody tr th:only-of-type {\n",
       "        vertical-align: middle;\n",
       "    }\n",
       "\n",
       "    .dataframe tbody tr th {\n",
       "        vertical-align: top;\n",
       "    }\n",
       "\n",
       "    .dataframe thead th {\n",
       "        text-align: right;\n",
       "    }\n",
       "</style>\n",
       "<table border=\"1\" class=\"dataframe\">\n",
       "  <thead>\n",
       "    <tr style=\"text-align: right;\">\n",
       "      <th></th>\n",
       "      <th>y10_grads_emp</th>\n",
       "    </tr>\n",
       "    <tr>\n",
       "      <th>institution</th>\n",
       "      <th></th>\n",
       "    </tr>\n",
       "  </thead>\n",
       "  <tbody>\n",
       "    <tr>\n",
       "      <th>3658</th>\n",
       "      <td>1128616.0</td>\n",
       "    </tr>\n",
       "    <tr>\n",
       "      <th>2325</th>\n",
       "      <td>880288.0</td>\n",
       "    </tr>\n",
       "    <tr>\n",
       "      <th>3895</th>\n",
       "      <td>818692.0</td>\n",
       "    </tr>\n",
       "    <tr>\n",
       "      <th>1370</th>\n",
       "      <td>614820.0</td>\n",
       "    </tr>\n",
       "    <tr>\n",
       "      <th>1350</th>\n",
       "      <td>491408.0</td>\n",
       "    </tr>\n",
       "    <tr>\n",
       "      <th>3656</th>\n",
       "      <td>418372.0</td>\n",
       "    </tr>\n",
       "    <tr>\n",
       "      <th>10115</th>\n",
       "      <td>337740.0</td>\n",
       "    </tr>\n",
       "    <tr>\n",
       "      <th>4508</th>\n",
       "      <td>271712.0</td>\n",
       "    </tr>\n",
       "    <tr>\n",
       "      <th>9741</th>\n",
       "      <td>267152.0</td>\n",
       "    </tr>\n",
       "    <tr>\n",
       "      <th>1349</th>\n",
       "      <td>232028.0</td>\n",
       "    </tr>\n",
       "  </tbody>\n",
       "</table>\n",
       "</div>"
      ],
      "text/plain": [
       "             y10_grads_emp\n",
       "institution               \n",
       "3658             1128616.0\n",
       "2325              880288.0\n",
       "3895              818692.0\n",
       "1370              614820.0\n",
       "1350              491408.0\n",
       "3656              418372.0\n",
       "10115             337740.0\n",
       "4508              271712.0\n",
       "9741              267152.0\n",
       "1349              232028.0"
      ]
     },
     "execution_count": 39,
     "metadata": {},
     "output_type": "execute_result"
    }
   ],
   "source": [
    "# Group instiontion to number of graduates employee- YEAR 1\n",
    "emp_institution_year5=employment.groupby('institution')\n",
    "empl_y5=emp_institution_year5['y10_grads_emp'].sum().sort_values(ascending=False)\n",
    "pp10=pd.DataFrame(empl_y5.head(15))\n",
    "pp10.head(10)"
   ]
  },
  {
   "cell_type": "code",
   "execution_count": 36,
   "metadata": {},
   "outputs": [
    {
     "data": {
      "image/png": "[encoded data removed]",
      "text/plain": [
       "<Figure size 720x360 with 1 Axes>"
      ]
     },
     "metadata": {
      "needs_background": "light"
     },
     "output_type": "display_data"
    },
    {
     "name": "stdout",
     "output_type": "stream",
     "text": [
      "*************************************************************************\n"
     ]
    },
    {
     "data": {
      "image/png": "[encoded data removed]",
      "text/plain": [
       "<Figure size 720x360 with 1 Axes>"
      ]
     },
     "metadata": {
      "needs_background": "light"
     },
     "output_type": "display_data"
    }
   ],
   "source": [
    "# visualization\n",
    "\n",
    "\n",
    "inst_y1=empl_y1.reset_index()\n",
    "inst_y1[:10]\n",
    "# plotting mean of graduated employed on different instititions\n",
    "plt.figure(figsize=(10,5))\n",
    "empl_y1.head(15).plot.bar(color='firebrick')\n",
    "plt.bar(empl_y1.head(10),height=0.5 ,color='firebrick' )\n",
    "\n",
    "plt.xlabel(\"institution code\",fontsize=16)\n",
    "plt.xticks(rotation=75)\n",
    "plt.ylabel(\"sum of graduates employed\",fontsize=16)\n",
    "\n",
    "plt.title(\"Total graduates employed against their institution(year 1)\", fontsize=20)\n",
    "\n",
    "plt.show()\n",
    "print('*************************************************************************')\n",
    "inst_y5=empl_y5.reset_index()\n",
    "inst_y5[:10]\n",
    "# plotting the distribution of frequently bought goods\n",
    "\n",
    "plt.figure(figsize=(10,5))\n",
    "empl_y5.head(15).plot.bar(color='firebrick')\n",
    "plt.bar(empl_y5.head(10),height=0.5 ,color='firebrick' )\n",
    "\n",
    "plt.xlabel(\"institution code\",fontsize=16)\n",
    "plt.xticks(rotation=75)\n",
    "plt.ylabel(\"sum of graduates employed\",fontsize=16)\n",
    "\n",
    "plt.title(\"Total graduates employed against their institution(year 5)\", fontsize=20)\n",
    "plt.show()"
   ]
  },
  {
   "cell_type": "markdown",
   "metadata": {},
   "source": [
    "1:Certificate< 1 year\n",
    "\n",
    "2: Certificate_1-2_years\n",
    "\n",
    "3:Associates\n",
    "\n",
    "4:Certificate_2-4_years\n",
    "\n",
    "5:Baccalaureate\n",
    "\n",
    "6:Post-Bacc Certificate\n",
    "\n",
    "7:Masters\n",
    "\n",
    "8:Post_Masters_Certificate,\n",
    "\n",
    "17:Doctoral_Research_Scholarship\n",
    "\n",
    "18:Doctoral_Professional Practice"
   ]
  },
  {
   "cell_type": "code",
   "execution_count": 11,
   "metadata": {},
   "outputs": [
    {
     "data": {
      "text/plain": [
       "degree_level\n",
       "5     14665016.0\n",
       "7      4896820.0\n",
       "3      1589788.0\n",
       "1      1391184.0\n",
       "17      852896.0\n",
       "18      835616.0\n",
       "2       505372.0\n",
       "6        17344.0\n",
       "8            0.0\n",
       "4            0.0\n",
       "Name: y1_grads_emp, dtype: float64"
      ]
     },
     "execution_count": 11,
     "metadata": {},
     "output_type": "execute_result"
    }
   ],
   "source": [
    "# Group degree levels by employment - YEAR1\n",
    "emp_institution_year1=employment.groupby('degree_level')\n",
    "empl_y1=emp_institution_year1['y1_grads_emp'].sum().sort_values(ascending=False)\n",
    "empl_y1.head(15)"
   ]
  },
  {
   "cell_type": "code",
   "execution_count": 12,
   "metadata": {},
   "outputs": [
    {
     "data": {
      "text/plain": [
       "degree_level\n",
       "5     11178080.0\n",
       "7      2937316.0\n",
       "3       923940.0\n",
       "1       714516.0\n",
       "18      524088.0\n",
       "17      515752.0\n",
       "2       331280.0\n",
       "6         9296.0\n",
       "8            0.0\n",
       "4            0.0\n",
       "Name: y5_grads_emp, dtype: float64"
      ]
     },
     "execution_count": 12,
     "metadata": {},
     "output_type": "execute_result"
    }
   ],
   "source": [
    "# Group degree levels by employment - YEAR5\n",
    "emp_institution_year1=employment.groupby('degree_level')\n",
    "empl_y5=emp_institution_year1['y5_grads_emp'].sum().sort_values(ascending=False)\n",
    "empl_y5.head(15)"
   ]
  },
  {
   "cell_type": "code",
   "execution_count": 13,
   "metadata": {},
   "outputs": [
    {
     "data": {
      "text/plain": [
       "degree_level\n",
       "5     5112336.0\n",
       "7     1412968.0\n",
       "3      450232.0\n",
       "1      292200.0\n",
       "18     239056.0\n",
       "17     229632.0\n",
       "2      178816.0\n",
       "6        2704.0\n",
       "8           0.0\n",
       "4           0.0\n",
       "Name: y10_grads_emp, dtype: float64"
      ]
     },
     "execution_count": 13,
     "metadata": {},
     "output_type": "execute_result"
    }
   ],
   "source": [
    "# Group degree levels by employment - YEAR10\n",
    "emp_institution_year1=employment.groupby('degree_level')\n",
    "empl_y0=emp_institution_year1['y10_grads_emp'].sum().sort_values(ascending=False)\n",
    "empl_y0.head(15)"
   ]
  },
  {
   "cell_type": "code",
   "execution_count": 14,
   "metadata": {},
   "outputs": [
    {
     "data": {
      "image/png": "[encoded data removed]",
      "text/plain": [
       "<Figure size 720x360 with 1 Axes>"
      ]
     },
     "metadata": {
      "needs_background": "light"
     },
     "output_type": "display_data"
    },
    {
     "name": "stdout",
     "output_type": "stream",
     "text": [
      "********************************************************************************************\n"
     ]
    },
    {
     "data": {
      "image/png": "[encoded data removed]",
      "text/plain": [
       "<Figure size 720x360 with 1 Axes>"
      ]
     },
     "metadata": {
      "needs_background": "light"
     },
     "output_type": "display_data"
    },
    {
     "name": "stdout",
     "output_type": "stream",
     "text": [
      "****************************************************************************************\n"
     ]
    },
    {
     "data": {
      "text/plain": [
       "Text(0.5, 1.0, 'Degree levels and total employment-YEAR 10')"
      ]
     },
     "execution_count": 14,
     "metadata": {},
     "output_type": "execute_result"
    },
    {
     "data": {
      "image/png": "[encoded data removed]",
      "text/plain": [
       "<Figure size 720x360 with 1 Axes>"
      ]
     },
     "metadata": {
      "needs_background": "light"
     },
     "output_type": "display_data"
    }
   ],
   "source": [
    "# Visualization of  Group degree levels by employment\n",
    "inst_y1=empl_y1.reset_index()\n",
    "inst_y1[:10]\n",
    "\n",
    "plt.figure(figsize=(10,5))\n",
    "empl_y1.head(15).plot.bar(color='magenta')\n",
    "plt.bar(empl_y1.head(10),height=0.5 ,color='magenta' )\n",
    "\n",
    "plt.xlabel(\"Degree levels\",fontsize=16)\n",
    "plt.xticks(rotation=75)\n",
    "plt.ylabel(\"Sum of graduates employmed\",fontsize=16)\n",
    "\n",
    "plt.title(\"Degree levels and total employment- YEAR 1\", fontsize=20)\n",
    "plt.show()\n",
    "print('********************************************************************************************')\n",
    "# Visualization\n",
    "inst_y5=empl_y5.reset_index()\n",
    "inst_y5[:10]\n",
    "\n",
    "plt.figure(figsize=(10,5))\n",
    "empl_y5.head(15).plot.bar(color='magenta')\n",
    "plt.bar(empl_y5.head(10),height=0.5 ,color='magenta' )\n",
    "\n",
    "plt.xlabel(\"Degree levels\",fontsize=16)\n",
    "plt.xticks(rotation=75)\n",
    "plt.ylabel(\"Sum of graduates employed\",fontsize=16)\n",
    "\n",
    "plt.title(\"Degree levels and total employment- YEAR5\", fontsize=20)\n",
    "plt.show()\n",
    "print('****************************************************************************************')\n",
    "# Visualization\n",
    "inst_y0=empl_y0.reset_index()\n",
    "inst_y0[:10]\n",
    "\n",
    "plt.figure(figsize=(10,5))\n",
    "empl_y0.head(15).plot.bar(color='magenta')\n",
    "plt.bar(empl_y0.head(10),height=0.5 ,color='magenta' )\n",
    "\n",
    "plt.xlabel(\"Degree levels\",fontsize=16)\n",
    "plt.xticks(rotation=75)\n",
    "plt.ylabel(\"Sum of graduates employed\",fontsize=16)\n",
    "\n",
    "plt.title(\"Degree levels and total employment-YEAR 10\", fontsize=20)\n"
   ]
  },
  {
   "cell_type": "code",
   "execution_count": 40,
   "metadata": {},
   "outputs": [
    {
     "data": {
      "text/plain": [
       "institution\n",
       "42439    23\n",
       "1362     23\n",
       "3659     23\n",
       "3658     23\n",
       "3656     23\n",
       "3599     23\n",
       "2325     23\n",
       "1372     23\n",
       "1370     23\n",
       "1368     23\n",
       "Name: industry, dtype: int64"
      ]
     },
     "execution_count": 40,
     "metadata": {},
     "output_type": "execute_result"
    }
   ],
   "source": [
    "# institution by industry\n",
    "emp_institution_yr1=employment.groupby('institution')\n",
    "top_insti = emp_institution_yr1['industry'].unique().agg(np.size).sort_values(ascending=False)\n",
    "top_insti.head(10)"
   ]
  },
  {
   "cell_type": "code",
   "execution_count": 41,
   "metadata": {},
   "outputs": [
    {
     "data": {
      "text/plain": [
       "industry\n",
       "00       493855.0\n",
       "ZZ       173840.0\n",
       "54        81364.0\n",
       "61        71884.0\n",
       "0         70453.0\n",
       "62        42184.0\n",
       "31-33     29224.0\n",
       "52        26840.0\n",
       "42        21860.0\n",
       "51        18364.0\n",
       "Name: y10_grads_emp, dtype: float64"
      ]
     },
     "execution_count": 41,
     "metadata": {},
     "output_type": "execute_result"
    }
   ],
   "source": [
    "# focusing on 3658 since it had the highest number of graduates employed\n",
    "top_insti1= employment[employment['institution'] == 3658].groupby('industry')['y1_grads_emp'].sum().sort_values(ascending=False)\n",
    "top_insti1.head(10)\n",
    "# focusing on 3658 since it had the highest number of graduates employed\n",
    "top_insti5= employment[employment['institution'] == 3658].groupby('industry')['y5_grads_emp'].sum().sort_values(ascending=False)\n",
    "top_insti5.head(10)\n",
    "# focusing on 3658 since it had the highest number of graduates employed\n",
    "top_insti0= employment[employment['institution'] == 3658].groupby('industry')['y10_grads_emp'].sum().sort_values(ascending=False)\n",
    "top_insti0.head(10)"
   ]
  },
  {
   "cell_type": "code",
   "execution_count": 42,
   "metadata": {},
   "outputs": [
    {
     "data": {
      "text/html": [
       "<div>\n",
       "<style scoped>\n",
       "    .dataframe tbody tr th:only-of-type {\n",
       "        vertical-align: middle;\n",
       "    }\n",
       "\n",
       "    .dataframe tbody tr th {\n",
       "        vertical-align: top;\n",
       "    }\n",
       "\n",
       "    .dataframe thead th {\n",
       "        text-align: right;\n",
       "    }\n",
       "</style>\n",
       "<table border=\"1\" class=\"dataframe\">\n",
       "  <thead>\n",
       "    <tr style=\"text-align: right;\">\n",
       "      <th></th>\n",
       "      <th>industry</th>\n",
       "      <th>y1_grads_emp</th>\n",
       "    </tr>\n",
       "  </thead>\n",
       "  <tbody>\n",
       "    <tr>\n",
       "      <th>0</th>\n",
       "      <td>00</td>\n",
       "      <td>1328629.0</td>\n",
       "    </tr>\n",
       "    <tr>\n",
       "      <th>1</th>\n",
       "      <td>ZZ</td>\n",
       "      <td>457124.0</td>\n",
       "    </tr>\n",
       "    <tr>\n",
       "      <th>2</th>\n",
       "      <td>54</td>\n",
       "      <td>260294.0</td>\n",
       "    </tr>\n",
       "    <tr>\n",
       "      <th>3</th>\n",
       "      <td>61</td>\n",
       "      <td>196912.0</td>\n",
       "    </tr>\n",
       "    <tr>\n",
       "      <th>4</th>\n",
       "      <td>0</td>\n",
       "      <td>189637.0</td>\n",
       "    </tr>\n",
       "    <tr>\n",
       "      <th>5</th>\n",
       "      <td>62</td>\n",
       "      <td>90410.0</td>\n",
       "    </tr>\n",
       "    <tr>\n",
       "      <th>6</th>\n",
       "      <td>31-33</td>\n",
       "      <td>82634.0</td>\n",
       "    </tr>\n",
       "    <tr>\n",
       "      <th>7</th>\n",
       "      <td>52</td>\n",
       "      <td>69468.0</td>\n",
       "    </tr>\n",
       "    <tr>\n",
       "      <th>8</th>\n",
       "      <td>42</td>\n",
       "      <td>52402.0</td>\n",
       "    </tr>\n",
       "    <tr>\n",
       "      <th>9</th>\n",
       "      <td>51</td>\n",
       "      <td>49936.0</td>\n",
       "    </tr>\n",
       "  </tbody>\n",
       "</table>\n",
       "</div>"
      ],
      "text/plain": [
       "  industry  y1_grads_emp\n",
       "0       00     1328629.0\n",
       "1       ZZ      457124.0\n",
       "2       54      260294.0\n",
       "3       61      196912.0\n",
       "4        0      189637.0\n",
       "5       62       90410.0\n",
       "6    31-33       82634.0\n",
       "7       52       69468.0\n",
       "8       42       52402.0\n",
       "9       51       49936.0"
      ]
     },
     "execution_count": 42,
     "metadata": {},
     "output_type": "execute_result"
    }
   ],
   "source": [
    "top_insti_y0=top_insti1.reset_index()\n",
    "top_insti_y0[:10]"
   ]
  },
  {
   "cell_type": "code",
   "execution_count": 43,
   "metadata": {},
   "outputs": [],
   "source": [
    "top_ins= employment[employment['institution'] == 3658].groupby('industry')['cipcode'].value_counts().sort_values(ascending=False)\n",
    "\n"
   ]
  },
  {
   "cell_type": "code",
   "execution_count": 21,
   "metadata": {},
   "outputs": [
    {
     "data": {
      "text/plain": [
       "industry  cipcode\n",
       "00        0          198\n",
       "81        0          180\n",
       "53        0          180\n",
       "21        51         180\n",
       "31-33     0          180\n",
       "56        51         180\n",
       "48-49     0          180\n",
       "62        51         180\n",
       "          0          180\n",
       "42        51         180\n",
       "          0          180\n",
       "53        51         180\n",
       "48-49     51         180\n",
       "23        0          180\n",
       "52        0          180\n",
       "          51         180\n",
       "72        0          180\n",
       "22        0          180\n",
       "          51         180\n",
       "72        51         180\n",
       "56        0          180\n",
       "92        51         180\n",
       "21        0          180\n",
       "31-33     51         180\n",
       "23        51         180\n",
       "61        51         180\n",
       "11        0          180\n",
       "          51         180\n",
       "44-45     51         180\n",
       "          0          180\n",
       "Name: cipcode, dtype: int64"
      ]
     },
     "execution_count": 21,
     "metadata": {},
     "output_type": "execute_result"
    }
   ],
   "source": [
    "top_ins.head(30)"
   ]
  },
  {
   "cell_type": "code",
   "execution_count": 45,
   "metadata": {},
   "outputs": [
    {
     "data": {
      "image/png": "[encoded data removed]",
      "text/plain": [
       "<Figure size 720x360 with 1 Axes>"
      ]
     },
     "metadata": {
      "needs_background": "light"
     },
     "output_type": "display_data"
    },
    {
     "data": {
      "image/png": "[encoded data removed]",
      "text/plain": [
       "<Figure size 720x360 with 1 Axes>"
      ]
     },
     "metadata": {
      "needs_background": "light"
     },
     "output_type": "display_data"
    },
    {
     "data": {
      "image/png": "[encoded data removed]",
      "text/plain": [
       "<Figure size 720x360 with 1 Axes>"
      ]
     },
     "metadata": {
      "needs_background": "light"
     },
     "output_type": "display_data"
    }
   ],
   "source": [
    "#   how graduates were employed in different industries in their first year of employmet\n",
    "plt.figure(figsize=(10,5))\n",
    "top_insti1.head(10).plot.bar(color='olivedrab')\n",
    "plt.title(\"Industries against number of graduates employed - YEAR 1\", fontsize=18)\n",
    "plt.xlabel(\"Industry\", fontsize=14)\n",
    "plt.ylabel(\"Total graduates\", fontsize=14)\n",
    "plt.show()\n",
    "#   how graduates were employed in different industries in their first year of employmet\n",
    "plt.figure(figsize=(10,5))\n",
    "top_insti5.head(10).plot.bar(color='olivedrab')\n",
    "plt.title(\"Industries against number of graduates employed - YEAR 5\", fontsize=18)\n",
    "plt.xlabel(\"Industry\", fontsize=14)\n",
    "plt.ylabel(\"Total graduates\", fontsize=14)\n",
    "plt.show()\n",
    "\n",
    "#   how graduates were employed in different industries in their first year of employmet\n",
    "plt.figure(figsize=(10,5))\n",
    "top_insti0.head(10).plot.bar(color='olivedrab')\n",
    "plt.title(\"Industries against number of graduates employed - YEAR 10\", fontsize=18)\n",
    "plt.xlabel(\"Industry\", fontsize=14)\n",
    "plt.ylabel(\"Total graduates\", fontsize=14)\n",
    "plt.show()\n",
    "\n"
   ]
  },
  {
   "cell_type": "markdown",
   "metadata": {},
   "source": [
    "# Earnings "
   ]
  },
  {
   "cell_type": "code",
   "execution_count": 46,
   "metadata": {},
   "outputs": [
    {
     "data": {
      "text/html": [
       "<div>\n",
       "<style scoped>\n",
       "    .dataframe tbody tr th:only-of-type {\n",
       "        vertical-align: middle;\n",
       "    }\n",
       "\n",
       "    .dataframe tbody tr th {\n",
       "        vertical-align: top;\n",
       "    }\n",
       "\n",
       "    .dataframe thead th {\n",
       "        text-align: right;\n",
       "    }\n",
       "</style>\n",
       "<table border=\"1\" class=\"dataframe\">\n",
       "  <thead>\n",
       "    <tr style=\"text-align: right;\">\n",
       "      <th></th>\n",
       "      <th>agg_level_pseo</th>\n",
       "      <th>inst_level</th>\n",
       "      <th>institution</th>\n",
       "      <th>degree_level</th>\n",
       "      <th>cip_level</th>\n",
       "      <th>cipcode</th>\n",
       "      <th>grad_cohort</th>\n",
       "      <th>grad_cohort_years</th>\n",
       "      <th>geo_level</th>\n",
       "      <th>geography</th>\n",
       "      <th>...</th>\n",
       "      <th>y1_ipeds_count</th>\n",
       "      <th>y5_ipeds_count</th>\n",
       "      <th>y10_ipeds_count</th>\n",
       "      <th>status_y1_earnings</th>\n",
       "      <th>status_y1_grads_earn</th>\n",
       "      <th>status_y5_earnings</th>\n",
       "      <th>status_y5_grads_earn</th>\n",
       "      <th>status_y10_earnings</th>\n",
       "      <th>status_y10_grads_earn</th>\n",
       "      <th>status_ipeds_count</th>\n",
       "    </tr>\n",
       "  </thead>\n",
       "  <tbody>\n",
       "    <tr>\n",
       "      <th>0</th>\n",
       "      <td>38</td>\n",
       "      <td>I</td>\n",
       "      <td>1345</td>\n",
       "      <td>3</td>\n",
       "      <td>A</td>\n",
       "      <td>00</td>\n",
       "      <td>0</td>\n",
       "      <td>5</td>\n",
       "      <td>N</td>\n",
       "      <td>0</td>\n",
       "      <td>...</td>\n",
       "      <td>886.0</td>\n",
       "      <td>253.0</td>\n",
       "      <td>126.0</td>\n",
       "      <td>1</td>\n",
       "      <td>1</td>\n",
       "      <td>1</td>\n",
       "      <td>1</td>\n",
       "      <td>1</td>\n",
       "      <td>1</td>\n",
       "      <td>1.0</td>\n",
       "    </tr>\n",
       "    <tr>\n",
       "      <th>1</th>\n",
       "      <td>38</td>\n",
       "      <td>I</td>\n",
       "      <td>1345</td>\n",
       "      <td>5</td>\n",
       "      <td>A</td>\n",
       "      <td>00</td>\n",
       "      <td>0</td>\n",
       "      <td>3</td>\n",
       "      <td>N</td>\n",
       "      <td>0</td>\n",
       "      <td>...</td>\n",
       "      <td>4786.0</td>\n",
       "      <td>3629.0</td>\n",
       "      <td>1742.0</td>\n",
       "      <td>1</td>\n",
       "      <td>1</td>\n",
       "      <td>1</td>\n",
       "      <td>1</td>\n",
       "      <td>1</td>\n",
       "      <td>1</td>\n",
       "      <td>1.0</td>\n",
       "    </tr>\n",
       "    <tr>\n",
       "      <th>2</th>\n",
       "      <td>38</td>\n",
       "      <td>I</td>\n",
       "      <td>1345</td>\n",
       "      <td>7</td>\n",
       "      <td>A</td>\n",
       "      <td>00</td>\n",
       "      <td>0</td>\n",
       "      <td>5</td>\n",
       "      <td>N</td>\n",
       "      <td>0</td>\n",
       "      <td>...</td>\n",
       "      <td>3364.0</td>\n",
       "      <td>2139.0</td>\n",
       "      <td>1070.0</td>\n",
       "      <td>1</td>\n",
       "      <td>1</td>\n",
       "      <td>1</td>\n",
       "      <td>1</td>\n",
       "      <td>1</td>\n",
       "      <td>1</td>\n",
       "      <td>1.0</td>\n",
       "    </tr>\n",
       "    <tr>\n",
       "      <th>3</th>\n",
       "      <td>38</td>\n",
       "      <td>I</td>\n",
       "      <td>1346</td>\n",
       "      <td>1</td>\n",
       "      <td>A</td>\n",
       "      <td>00</td>\n",
       "      <td>0</td>\n",
       "      <td>5</td>\n",
       "      <td>N</td>\n",
       "      <td>0</td>\n",
       "      <td>...</td>\n",
       "      <td>7182.0</td>\n",
       "      <td>3495.0</td>\n",
       "      <td>923.0</td>\n",
       "      <td>1</td>\n",
       "      <td>1</td>\n",
       "      <td>1</td>\n",
       "      <td>1</td>\n",
       "      <td>1</td>\n",
       "      <td>1</td>\n",
       "      <td>1.0</td>\n",
       "    </tr>\n",
       "    <tr>\n",
       "      <th>4</th>\n",
       "      <td>38</td>\n",
       "      <td>I</td>\n",
       "      <td>1346</td>\n",
       "      <td>2</td>\n",
       "      <td>A</td>\n",
       "      <td>00</td>\n",
       "      <td>0</td>\n",
       "      <td>5</td>\n",
       "      <td>N</td>\n",
       "      <td>0</td>\n",
       "      <td>...</td>\n",
       "      <td>2507.0</td>\n",
       "      <td>1467.0</td>\n",
       "      <td>805.0</td>\n",
       "      <td>1</td>\n",
       "      <td>1</td>\n",
       "      <td>1</td>\n",
       "      <td>1</td>\n",
       "      <td>1</td>\n",
       "      <td>1</td>\n",
       "      <td>1.0</td>\n",
       "    </tr>\n",
       "  </tbody>\n",
       "</table>\n",
       "<p>5 rows × 34 columns</p>\n",
       "</div>"
      ],
      "text/plain": [
       "   agg_level_pseo inst_level  institution  degree_level cip_level cipcode  \\\n",
       "0              38          I         1345             3         A      00   \n",
       "1              38          I         1345             5         A      00   \n",
       "2              38          I         1345             7         A      00   \n",
       "3              38          I         1346             1         A      00   \n",
       "4              38          I         1346             2         A      00   \n",
       "\n",
       "   grad_cohort  grad_cohort_years geo_level  geography  ... y1_ipeds_count  \\\n",
       "0            0                  5         N          0  ...          886.0   \n",
       "1            0                  3         N          0  ...         4786.0   \n",
       "2            0                  5         N          0  ...         3364.0   \n",
       "3            0                  5         N          0  ...         7182.0   \n",
       "4            0                  5         N          0  ...         2507.0   \n",
       "\n",
       "   y5_ipeds_count  y10_ipeds_count  status_y1_earnings  status_y1_grads_earn  \\\n",
       "0           253.0            126.0                   1                     1   \n",
       "1          3629.0           1742.0                   1                     1   \n",
       "2          2139.0           1070.0                   1                     1   \n",
       "3          3495.0            923.0                   1                     1   \n",
       "4          1467.0            805.0                   1                     1   \n",
       "\n",
       "   status_y5_earnings  status_y5_grads_earn  status_y10_earnings  \\\n",
       "0                   1                     1                    1   \n",
       "1                   1                     1                    1   \n",
       "2                   1                     1                    1   \n",
       "3                   1                     1                    1   \n",
       "4                   1                     1                    1   \n",
       "\n",
       "   status_y10_grads_earn  status_ipeds_count  \n",
       "0                      1                 1.0  \n",
       "1                      1                 1.0  \n",
       "2                      1                 1.0  \n",
       "3                      1                 1.0  \n",
       "4                      1                 1.0  \n",
       "\n",
       "[5 rows x 34 columns]"
      ]
     },
     "execution_count": 46,
     "metadata": {},
     "output_type": "execute_result"
    }
   ],
   "source": [
    "earnings.head()"
   ]
  },
  {
   "cell_type": "code",
   "execution_count": 47,
   "metadata": {},
   "outputs": [
    {
     "data": {
      "text/plain": [
       "Index(['agg_level_pseo', 'inst_level', 'institution', 'degree_level',\n",
       "       'cip_level', 'cipcode', 'grad_cohort', 'grad_cohort_years', 'geo_level',\n",
       "       'geography', 'ind_level', 'industry', 'y1_p25_earnings',\n",
       "       'y1_p50_earnings', 'y1_p75_earnings', 'y1_grads_earn',\n",
       "       'y5_p25_earnings', 'y5_p50_earnings', 'y5_p75_earnings',\n",
       "       'y5_grads_earn', 'y10_p25_earnings', 'y10_p50_earnings',\n",
       "       'y10_p75_earnings', 'y10_grads_earn', 'y1_ipeds_count',\n",
       "       'y5_ipeds_count', 'y10_ipeds_count', 'status_y1_earnings',\n",
       "       'status_y1_grads_earn', 'status_y5_earnings', 'status_y5_grads_earn',\n",
       "       'status_y10_earnings', 'status_y10_grads_earn', 'status_ipeds_count'],\n",
       "      dtype='object')"
      ]
     },
     "execution_count": 47,
     "metadata": {},
     "output_type": "execute_result"
    }
   ],
   "source": [
    "earnings.columns"
   ]
  },
  {
   "cell_type": "code",
   "execution_count": null,
   "metadata": {},
   "outputs": [],
   "source": []
  },
  {
   "cell_type": "code",
   "execution_count": 48,
   "metadata": {},
   "outputs": [],
   "source": [
    "earnings[\"y1_p25_earnings\"] = pd.to_numeric(earnings.y1_p25_earnings, errors='coerce')\n",
    "earnings[\"y1_p50_earnings\"] = pd.to_numeric(earnings.y1_p50_earnings, errors='coerce')\n",
    "earnings[\"y1_p75_earnings\"] = pd.to_numeric(earnings.y1_p75_earnings, errors='coerce')\n",
    "earnings[\"y1_grads_earn\"] = pd.to_numeric(earnings.y1_grads_earn, errors='coerce')\n",
    "earnings[\"y5_p25_earnings\"] = pd.to_numeric(earnings.y5_p25_earnings, errors='coerce')\n",
    "earnings[\"y5_p50_earnings\"] = pd.to_numeric(earnings.y5_p50_earnings, errors='coerce')\n",
    "earnings[\"y5_p75_earnings\"] = pd.to_numeric(earnings.y5_p75_earnings, errors='coerce')\n",
    "earnings[\"y10_p25_earnings\"] = pd.to_numeric(earnings.y10_p25_earnings, errors='coerce')\n",
    "earnings[\"y10_p50_earnings\"] = pd.to_numeric(earnings.y10_p50_earnings, errors='coerce')\n",
    "earnings[\"y10_p75_earnings\"] = pd.to_numeric(earnings.y10_p75_earnings, errors='coerce')\n",
    "earnings[\"y1_ipeds_count\"] = pd.to_numeric(earnings.y1_ipeds_count, errors='coerce')\n",
    "earnings[\"y5_ipeds_count\"] = pd.to_numeric(earnings.y5_ipeds_count, errors='coerce')\n",
    "earnings[\"y10_ipeds_count\"] = pd.to_numeric(earnings.y10_ipeds_count, errors='coerce')\n",
    "\n",
    "\n"
   ]
  },
  {
   "cell_type": "code",
   "execution_count": 49,
   "metadata": {},
   "outputs": [
    {
     "data": {
      "text/plain": [
       "agg_level_pseo             int64\n",
       "inst_level                object\n",
       "institution                int64\n",
       "degree_level               int64\n",
       "cip_level                 object\n",
       "cipcode                   object\n",
       "grad_cohort                int64\n",
       "grad_cohort_years          int64\n",
       "geo_level                 object\n",
       "geography                  int64\n",
       "ind_level                 object\n",
       "industry                   int64\n",
       "y1_p25_earnings          float64\n",
       "y1_p50_earnings          float64\n",
       "y1_p75_earnings          float64\n",
       "y1_grads_earn            float64\n",
       "y5_p25_earnings          float64\n",
       "y5_p50_earnings          float64\n",
       "y5_p75_earnings          float64\n",
       "y5_grads_earn            float64\n",
       "y10_p25_earnings         float64\n",
       "y10_p50_earnings         float64\n",
       "y10_p75_earnings         float64\n",
       "y10_grads_earn           float64\n",
       "y1_ipeds_count           float64\n",
       "y5_ipeds_count           float64\n",
       "y10_ipeds_count          float64\n",
       "status_y1_earnings         int64\n",
       "status_y1_grads_earn       int64\n",
       "status_y5_earnings         int64\n",
       "status_y5_grads_earn       int64\n",
       "status_y10_earnings        int64\n",
       "status_y10_grads_earn      int64\n",
       "status_ipeds_count       float64\n",
       "dtype: object"
      ]
     },
     "execution_count": 49,
     "metadata": {},
     "output_type": "execute_result"
    }
   ],
   "source": [
    "earnings.dtypes"
   ]
  },
  {
   "cell_type": "code",
   "execution_count": 50,
   "metadata": {},
   "outputs": [
    {
     "data": {
      "text/plain": [
       "institution\n",
       "3895     857\n",
       "2325     780\n",
       "3658     673\n",
       "1350     582\n",
       "1370     504\n",
       "3656     472\n",
       "10115    459\n",
       "3661     447\n",
       "9543     411\n",
       "8896     395\n",
       "Name: cipcode, dtype: int64"
      ]
     },
     "execution_count": 50,
     "metadata": {},
     "output_type": "execute_result"
    }
   ],
   "source": [
    "year=earnings.groupby('institution')\n",
    "year_earn=year['cipcode'].agg(np.size).sort_values(ascending=False)\n",
    "year_earn.head(10)\n"
   ]
  },
  {
   "cell_type": "code",
   "execution_count": 51,
   "metadata": {},
   "outputs": [
    {
     "name": "stderr",
     "output_type": "stream",
     "text": [
      "/Users/macos/anaconda3/lib/python3.7/site-packages/pandas/core/ops/array_ops.py:253: FutureWarning: elementwise comparison failed; returning scalar instead, but in the future will perform elementwise comparison\n",
      "  res_values = method(rvalues)\n"
     ]
    },
    {
     "data": {
      "text/plain": [
       "Series([], Name: y1_p25_earnings, dtype: float64)"
      ]
     },
     "execution_count": 51,
     "metadata": {},
     "output_type": "execute_result"
    }
   ],
   "source": [
    "# inst_code=earnings['institution']==3896\n",
    "# inst_earn=inst_code.groupby('cipcode')\n",
    "# inst_earn_code=inst_earn['y1_p25_earnings'].mean().sort_values(ascending=False)\n",
    "inst = earnings[earnings['institution'] == '3896'].groupby('cipcode')['y1_p25_earnings'].mean().sort_values(ascending=False)\n",
    "inst.head()"
   ]
  },
  {
   "cell_type": "code",
   "execution_count": 29,
   "metadata": {},
   "outputs": [],
   "source": [
    "top_in= earnings[earnings['institution'] == 3658]\n",
    "topp=top_in.groupby('industry')['cipcode'].agg(np.sum).sort_values(ascending=False)\n",
    "\n"
   ]
  },
  {
   "cell_type": "code",
   "execution_count": null,
   "metadata": {},
   "outputs": [],
   "source": []
  },
  {
   "cell_type": "code",
   "execution_count": null,
   "metadata": {},
   "outputs": [],
   "source": []
  },
  {
   "cell_type": "code",
   "execution_count": null,
   "metadata": {},
   "outputs": [],
   "source": []
  },
  {
   "cell_type": "code",
   "execution_count": null,
   "metadata": {},
   "outputs": [],
   "source": []
  },
  {
   "cell_type": "code",
   "execution_count": null,
   "metadata": {},
   "outputs": [],
   "source": []
  }
 ],
 "metadata": {
  "kernelspec": {
   "display_name": "Python 3",
   "language": "python",
   "name": "python3"
  },
  "language_info": {
   "codemirror_mode": {
    "name": "ipython",
    "version": 3
   },
   "file_extension": ".py",
   "mimetype": "text/x-python",
   "name": "python",
   "nbconvert_exporter": "python",
   "pygments_lexer": "ipython3",
   "version": "3.7.3"
  }
 },
 "nbformat": 4,
 "nbformat_minor": 2
}
