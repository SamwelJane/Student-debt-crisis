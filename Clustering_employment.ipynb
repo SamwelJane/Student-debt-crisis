{
  "nbformat": 4,
  "nbformat_minor": 0,
  "metadata": {
    "colab": {
      "name": "Clustering_employment",
      "provenance": [],
      "collapsed_sections": [],
      "mount_file_id": "1-MJ3z8MNfppT86FbJgsNAD55qcBwPp-a",
      "authorship_tag": "ABX9TyNfOaGJ5qfQTmS8LMYeEKbf",
      "include_colab_link": true
    },
    "kernelspec": {
      "name": "python3",
      "display_name": "Python 3"
    },
    "accelerator": "GPU"
  },
  "cells": [
    {
      "cell_type": "markdown",
      "metadata": {
        "id": "view-in-github",
        "colab_type": "text"
      },
      "source": [
        "<a href=\"https://colab.research.google.com/github/SamwelJane/Student-debt-crisis/blob/master/Clustering_employment.ipynb\" target=\"_parent\"><img src=\"https://colab.research.google.com/assets/colab-badge.svg\" alt=\"Open In Colab\"/></a>"
      ]
    },
    {
      "cell_type": "code",
      "metadata": {
        "id": "UeC1LkGIqWHj",
        "colab_type": "code",
        "colab": {}
      },
      "source": [
        ""
      ],
      "execution_count": 0,
      "outputs": []
    },
    {
      "cell_type": "code",
      "metadata": {
        "id": "fDgNk3UcrMfK",
        "colab_type": "code",
        "colab": {}
      },
      "source": [
        "# libraries\n",
        "import pandas as pd\n",
        "import numpy as np\n",
        "from sklearn.preprocessing import StandardScaler\n",
        "from sklearn.decomposition import PCA\n",
        "# visualization\n",
        "import matplotlib.pyplot as plt\n",
        "import seaborn as sns\n",
        "sns.set_style(\"whitegrid\")\n",
        "\n",
        "import warnings\n",
        "warnings='ignore'\n",
        "# clustering\n",
        "from sklearn.cluster import KMeans\n",
        "import os\n",
        "\n",
        "import math\n",
        "%matplotlib inline"
      ],
      "execution_count": 0,
      "outputs": []
    },
    {
      "cell_type": "code",
      "metadata": {
        "id": "eBS_pp6MrMdS",
        "colab_type": "code",
        "colab": {}
      },
      "source": [
        "all_e=pd.read_csv('/content/drive/My Drive/Student crisis/all_employement_flow.csv')"
      ],
      "execution_count": 0,
      "outputs": []
    },
    {
      "cell_type": "code",
      "metadata": {
        "id": "500OzVHgrMZi",
        "colab_type": "code",
        "outputId": "2b57f337-74da-4eec-d874-786bf93f969e",
        "colab": {
          "base_uri": "https://localhost:8080/",
          "height": 34
        }
      },
      "source": [
        "all_e.shape"
      ],
      "execution_count": 0,
      "outputs": [
        {
          "output_type": "execute_result",
          "data": {
            "text/plain": [
              "(1679079, 24)"
            ]
          },
          "metadata": {
            "tags": []
          },
          "execution_count": 3
        }
      ]
    },
    {
      "cell_type": "code",
      "metadata": {
        "id": "Fdl9GBmzrMVq",
        "colab_type": "code",
        "outputId": "a65a6a36-53e1-4c5c-d913-d97f3a7c67be",
        "colab": {
          "base_uri": "https://localhost:8080/",
          "height": 442
        }
      },
      "source": [
        "all_e.dtypes"
      ],
      "execution_count": 0,
      "outputs": [
        {
          "output_type": "execute_result",
          "data": {
            "text/plain": [
              "agg_level_pseo                    int64\n",
              "inst_level                       object\n",
              "institution                       int64\n",
              "degree_level                      int64\n",
              "cip_level                        object\n",
              "cipcode                           int64\n",
              "grad_cohort                       int64\n",
              "grad_cohort_years                 int64\n",
              "geo_level                        object\n",
              "geography                        object\n",
              "ind_level                        object\n",
              "industry                         object\n",
              "y1_grads_emp                    float64\n",
              "y1_grads_emp_instate            float64\n",
              "y5_grads_emp                    float64\n",
              "y5_grads_emp_instate            float64\n",
              "y10_grads_emp                   float64\n",
              "y10_grads_emp_instate           float64\n",
              "status_y1_grads_emp               int64\n",
              "status_y1_grads_emp_instate       int64\n",
              "status_y5_grads_emp               int64\n",
              "status_y5_grads_emp_instate       int64\n",
              "status_y10_grads_emp              int64\n",
              "status_y10_grads_emp_instate      int64\n",
              "dtype: object"
            ]
          },
          "metadata": {
            "tags": []
          },
          "execution_count": 4
        }
      ]
    },
    {
      "cell_type": "code",
      "metadata": {
        "id": "P0vIibEerMS_",
        "colab_type": "code",
        "colab": {}
      },
      "source": [
        "# replace infinit value values with null\n",
        "all_e = all_e.replace([np.inf, -np.inf], np.nan)"
      ],
      "execution_count": 0,
      "outputs": []
    },
    {
      "cell_type": "code",
      "metadata": {
        "id": "qTJYo1uYrMPZ",
        "colab_type": "code",
        "outputId": "3b2f3eb4-0a38-4a68-ad58-f87330f99396",
        "colab": {
          "base_uri": "https://localhost:8080/",
          "height": 119
        }
      },
      "source": [
        "# # total number of missing values per column in percentage\n",
        "column_with_nan = all_e.columns[all_e.isnull().any()]\n",
        "all_e.shape\n",
        "for column in column_with_nan:\n",
        "          print(column, all_e[column].isnull().sum()/len(all_e[column])*100)"
      ],
      "execution_count": 0,
      "outputs": [
        {
          "output_type": "stream",
          "text": [
            "y1_grads_emp 20.144614994291512\n",
            "y1_grads_emp_instate 21.269338726766282\n",
            "y5_grads_emp 41.17721679563618\n",
            "y5_grads_emp_instate 42.005706699922996\n",
            "y10_grads_emp 65.25434479259165\n",
            "y10_grads_emp_instate 65.74372021804811\n"
          ],
          "name": "stdout"
        }
      ]
    },
    {
      "cell_type": "code",
      "metadata": {
        "id": "meJ6XZ7MrMMq",
        "colab_type": "code",
        "colab": {}
      },
      "source": [
        "# Drop columns with 50% and above missing values\n",
        "all_e=all_e.drop(['y10_grads_emp_instate','y10_grads_emp'],axis=1)"
      ],
      "execution_count": 0,
      "outputs": []
    },
    {
      "cell_type": "code",
      "metadata": {
        "id": "Dpi2ZoNHrMJ3",
        "colab_type": "code",
        "colab": {}
      },
      "source": [
        "# fill missing values with median\n",
        "med=all_e.y1_grads_emp.mode()\n",
        "med1=all_e.y1_grads_emp_instate.mode()\n",
        "med2=all_e.y5_grads_emp.mode()\n",
        "med3=all_e.y5_grads_emp_instate.mode()\n"
      ],
      "execution_count": 0,
      "outputs": []
    },
    {
      "cell_type": "code",
      "metadata": {
        "id": "xvxC7A4mtWMl",
        "colab_type": "code",
        "colab": {}
      },
      "source": [
        "all_e.y1_grads_emp.fillna(med)\n",
        "all_e.y1_grads_emp_instate.fillna(med1)\n",
        "all_e.y5_grads_emp.fillna(med2)\n",
        "all_e.y5_grads_emp_instate.fillna(med3)\n",
        "all_e.head(1)\n"
      ],
      "execution_count": 0,
      "outputs": []
    },
    {
      "cell_type": "code",
      "metadata": {
        "id": "w8xihA3ZtvH3",
        "colab_type": "code",
        "colab": {}
      },
      "source": [
        "cols=['institution','degree_level','cip_level', 'cipcode', 'grad_cohort', 'grad_cohort_years', 'geo_level',\n",
        "       'geography', 'ind_level', 'industry', 'y1_grads_emp',\n",
        "       'y1_grads_emp_instate', 'y5_grads_emp', 'y5_grads_emp_instate',\n",
        "       'status_y10_grads_emp',]\n",
        "df=all_e[cols]"
      ],
      "execution_count": 0,
      "outputs": []
    },
    {
      "cell_type": "markdown",
      "metadata": {
        "id": "000Y4xYCeSgb",
        "colab_type": "text"
      },
      "source": [
        "### Replace categorical charaters"
      ]
    },
    {
      "cell_type": "code",
      "metadata": {
        "id": "ir7G8uPltk72",
        "colab_type": "code",
        "colab": {}
      },
      "source": [
        "\n",
        "df.cip_level.replace('A',1,inplace=True)"
      ],
      "execution_count": 0,
      "outputs": []
    },
    {
      "cell_type": "code",
      "metadata": {
        "id": "UnuTW4iCt4q-",
        "colab_type": "code",
        "colab": {}
      },
      "source": [
        "df.geo_level.replace(['N','D'],[0,1],inplace=True)"
      ],
      "execution_count": 0,
      "outputs": []
    },
    {
      "cell_type": "code",
      "metadata": {
        "id": "45RAheHVt_dO",
        "colab_type": "code",
        "colab": {}
      },
      "source": [
        "df.ind_level.replace(['A','S'],[0,1],inplace=True)"
      ],
      "execution_count": 0,
      "outputs": []
    },
    {
      "cell_type": "code",
      "metadata": {
        "id": "1S4sIbgjuI3O",
        "colab_type": "code",
        "colab": {}
      },
      "source": [
        "df.industry.replace(['31-33','44-45','48-49','0'],[32,44,48,2],inplace=True)"
      ],
      "execution_count": 0,
      "outputs": []
    },
    {
      "cell_type": "code",
      "metadata": {
        "id": "5xxCON5e3Kde",
        "colab_type": "code",
        "colab": {}
      },
      "source": [
        "df.industry.replace('ZZ',100,inplace=True)"
      ],
      "execution_count": 0,
      "outputs": []
    },
    {
      "cell_type": "code",
      "metadata": {
        "id": "D5IDyWOv61aX",
        "colab_type": "code",
        "colab": {}
      },
      "source": [
        "df.geography.replace('Z',10,inplace=True)"
      ],
      "execution_count": 0,
      "outputs": []
    },
    {
      "cell_type": "code",
      "metadata": {
        "id": "OTRL93qUEhZy",
        "colab_type": "code",
        "colab": {}
      },
      "source": [
        "df.to_csv('clean.csv')"
      ],
      "execution_count": 0,
      "outputs": []
    },
    {
      "cell_type": "code",
      "metadata": {
        "id": "nWKC4uGMEwwc",
        "colab_type": "code",
        "outputId": "97e89fea-ed96-490f-a504-761ce0d0b7a9",
        "colab": {
          "base_uri": "https://localhost:8080/",
          "height": 100
        }
      },
      "source": [
        "df.head(1)"
      ],
      "execution_count": 0,
      "outputs": [
        {
          "output_type": "execute_result",
          "data": {
            "text/html": [
              "<div>\n",
              "<style scoped>\n",
              "    .dataframe tbody tr th:only-of-type {\n",
              "        vertical-align: middle;\n",
              "    }\n",
              "\n",
              "    .dataframe tbody tr th {\n",
              "        vertical-align: top;\n",
              "    }\n",
              "\n",
              "    .dataframe thead th {\n",
              "        text-align: right;\n",
              "    }\n",
              "</style>\n",
              "<table border=\"1\" class=\"dataframe\">\n",
              "  <thead>\n",
              "    <tr style=\"text-align: right;\">\n",
              "      <th></th>\n",
              "      <th>institution</th>\n",
              "      <th>degree_level</th>\n",
              "      <th>cip_level</th>\n",
              "      <th>cipcode</th>\n",
              "      <th>grad_cohort</th>\n",
              "      <th>grad_cohort_years</th>\n",
              "      <th>geo_level</th>\n",
              "      <th>geography</th>\n",
              "      <th>ind_level</th>\n",
              "      <th>industry</th>\n",
              "      <th>y1_grads_emp</th>\n",
              "      <th>y1_grads_emp_instate</th>\n",
              "      <th>y5_grads_emp</th>\n",
              "      <th>y5_grads_emp_instate</th>\n",
              "      <th>status_y10_grads_emp</th>\n",
              "    </tr>\n",
              "  </thead>\n",
              "  <tbody>\n",
              "    <tr>\n",
              "      <th>0</th>\n",
              "      <td>1345</td>\n",
              "      <td>3</td>\n",
              "      <td>1</td>\n",
              "      <td>0</td>\n",
              "      <td>0</td>\n",
              "      <td>5</td>\n",
              "      <td>0</td>\n",
              "      <td>0</td>\n",
              "      <td>0</td>\n",
              "      <td>00</td>\n",
              "      <td>961.0</td>\n",
              "      <td>197.0</td>\n",
              "      <td>321.0</td>\n",
              "      <td>78.0</td>\n",
              "      <td>1</td>\n",
              "    </tr>\n",
              "  </tbody>\n",
              "</table>\n",
              "</div>"
            ],
            "text/plain": [
              "   institution  degree_level  ... y5_grads_emp_instate  status_y10_grads_emp\n",
              "0         1345             3  ...                 78.0                     1\n",
              "\n",
              "[1 rows x 15 columns]"
            ]
          },
          "metadata": {
            "tags": []
          },
          "execution_count": 18
        }
      ]
    },
    {
      "cell_type": "markdown",
      "metadata": {
        "id": "JHbdOSHceglT",
        "colab_type": "text"
      },
      "source": [
        "### Normalization"
      ]
    },
    {
      "cell_type": "code",
      "metadata": {
        "id": "wj8_iIDA_ByS",
        "colab_type": "code",
        "colab": {}
      },
      "source": [
        "\n",
        "column_names = ['y1_grads_emp', 'y1_grads_emp_instate', 'y5_grads_emp','y5_grads_emp_instate']\n",
        "\n",
        "\n",
        "df[column_names] = df[column_names].apply(lambda x:(x-x.min()) / (x.max()-x.min()))\n",
        "\n"
      ],
      "execution_count": 0,
      "outputs": []
    },
    {
      "cell_type": "code",
      "metadata": {
        "id": "83gXTpPKuRo_",
        "colab_type": "code",
        "outputId": "ab262052-bba2-4fc5-ba81-bcd38abbf370",
        "colab": {
          "base_uri": "https://localhost:8080/",
          "height": 428
        }
      },
      "source": [
        "# corralation of variables\n",
        "plt.figure(figsize=(10,5))\n",
        "sns.heatmap(df.corr(),annot=True,cmap='Blues',fmt='.2f',linewidths=1)\n",
        "plt.show()"
      ],
      "execution_count": 0,
      "outputs": [
        {
          "output_type": "display_data",
          "data": {
            "image/png": "[encoded data removed]",
            "text/plain": [
              "<Figure size 720x360 with 2 Axes>"
            ]
          },
          "metadata": {
            "tags": [],
            "needs_background": "light"
          }
        }
      ]
    },
    {
      "cell_type": "code",
      "metadata": {
        "id": "CwDQS4kXud_9",
        "colab_type": "code",
        "outputId": "38a0d529-1a42-4fc7-eeca-6002dbe04425",
        "colab": {
          "base_uri": "https://localhost:8080/",
          "height": 443
        }
      },
      "source": [
        "# correlation of degree level vs earnings\n",
        "plt.figure(1,figsize=(15,7))\n",
        "n=0\n",
        "for x in ['degree_level','y1_grads_emp','y5_grads_emp']:\n",
        "    for y in ['degree_level','y1_grads_emp','y5_grads_emp']:\n",
        "        n+=1\n",
        "        plt.subplot(3,3,n)\n",
        "        plt.subplots_adjust(hspace=0.5,wspace=0.5)\n",
        "        sns.regplot(x=x,y=y,data=df)\n",
        "        plt.ylabel(y.split()[0]+''+y.split()[1] if len(y.split())>1 else y)\n",
        "plt.show()"
      ],
      "execution_count": 0,
      "outputs": [
        {
          "output_type": "display_data",
          "data": {
            "image/png": "[encoded data removed]",
            "text/plain": [
              "<Figure size 1080x504 with 9 Axes>"
            ]
          },
          "metadata": {
            "tags": [],
            "needs_background": "light"
          }
        }
      ]
    },
    {
      "cell_type": "code",
      "metadata": {
        "id": "WmC5oiLJ2CJd",
        "colab_type": "code",
        "outputId": "ee31c838-ff9d-4fc7-b259-a463d4395ce1",
        "colab": {
          "base_uri": "https://localhost:8080/",
          "height": 34
        }
      },
      "source": [
        "df_km=df.dropna()\n",
        "df_km.shape"
      ],
      "execution_count": 0,
      "outputs": [
        {
          "output_type": "execute_result",
          "data": {
            "text/plain": [
              "(897960, 15)"
            ]
          },
          "metadata": {
            "tags": []
          },
          "execution_count": 21
        }
      ]
    },
    {
      "cell_type": "markdown",
      "metadata": {
        "id": "fimemvYC4kVo",
        "colab_type": "text"
      },
      "source": [
        "# KMeans Clustering"
      ]
    },
    {
      "cell_type": "code",
      "metadata": {
        "id": "9WgY7_P_uqGH",
        "colab_type": "code",
        "outputId": "e7712a32-7a79-4705-f3d3-51513668d8c4",
        "colab": {
          "base_uri": "https://localhost:8080/",
          "height": 295
        }
      },
      "source": [
        "#Choosing the number of clustering using elbow curve  \n",
        "from sklearn.cluster import KMeans\n",
        "employ=[]\n",
        "for a in range(1,15):\n",
        "    kmeans = KMeans(n_clusters=a,init='k-means++')\n",
        "    empl = kmeans.fit(df_km)\n",
        "    employ.append(empl.score(df_km))\n",
        "plt.plot(range(1,15),employ)\n",
        "plt.xlabel('clusters')\n",
        "plt.ylabel('employment')\n",
        "plt.title('The elbow curve')\n",
        "plt.show()"
      ],
      "execution_count": 0,
      "outputs": [
        {
          "output_type": "display_data",
          "data": {
            "image/png": "[encoded data removed]",
            "text/plain": [
              "<Figure size 432x288 with 1 Axes>"
            ]
          },
          "metadata": {
            "tags": [],
            "needs_background": "light"
          }
        }
      ]
    },
    {
      "cell_type": "code",
      "metadata": {
        "id": "9Zxwoequ9k2w",
        "colab_type": "code",
        "outputId": "385572a4-c98a-4ac6-ae1e-39b15f646e97",
        "colab": {
          "base_uri": "https://localhost:8080/",
          "height": 295
        }
      },
      "source": [
        "# Tuning the with parameters to get the number of clusters\n",
        "employ=[]\n",
        "for a in range(1,15):\n",
        "    kmeans = KMeans(n_clusters=a, init='k-means++', n_init=10, max_iter=300, tol=0.0001, precompute_distances=False,\n",
        "                    verbose=0, random_state=10, copy_x=True, n_jobs=None, algorithm='auto')\n",
        "    empl = kmeans.fit(df_km)\n",
        "    employ.append(empl.score(df_km))\n",
        "plt.plot(range(1,15),employ)\n",
        "plt.xlabel('clusters')\n",
        "plt.ylabel('Grads_employed')\n",
        "plt.title('The elbow curve')\n",
        "plt.show()\n",
        "\n"
      ],
      "execution_count": 0,
      "outputs": [
        {
          "output_type": "display_data",
          "data": {
            "image/png": "[encoded data removed]",
            "text/plain": [
              "<Figure size 432x288 with 1 Axes>"
            ]
          },
          "metadata": {
            "tags": [],
            "needs_background": "light"
          }
        }
      ]
    },
    {
      "cell_type": "markdown",
      "metadata": {
        "id": "1zHsRV_ifK6p",
        "colab_type": "text"
      },
      "source": [
        "On both graphs, the elbow curve is obsevred to be at cluster number 3. Thus our n_clusters=3"
      ]
    },
    {
      "cell_type": "code",
      "metadata": {
        "id": "enS1k1SM-yKL",
        "colab_type": "code",
        "outputId": "d7d74f24-6a19-441a-f53c-9a6ea01f74e5",
        "colab": {
          "base_uri": "https://localhost:8080/",
          "height": 585
        }
      },
      "source": [
        "# visualization on clusters on the variables clustered\n",
        "kmc=KMeans(n_clusters=3).fit(df_km)\n",
        "df_km['our labels']=kmc.labels_\n",
        "plt.figure(figsize=(10,7))\n",
        "sns.scatterplot(df_km['y1_grads_emp'],df_km['degree_level'],\n",
        "                hue=df_km['our labels'],palette=sns.color_palette('hls',3))\n",
        "plt.title(' 3 Clusters degee_level employment',fontsize=18)\n",
        "plt.show()"
      ],
      "execution_count": 0,
      "outputs": [
        {
          "output_type": "stream",
          "text": [
            "/usr/local/lib/python3.6/dist-packages/ipykernel_launcher.py:2: SettingWithCopyWarning: \n",
            "A value is trying to be set on a copy of a slice from a DataFrame.\n",
            "Try using .loc[row_indexer,col_indexer] = value instead\n",
            "\n",
            "See the caveats in the documentation: https://pandas.pydata.org/pandas-docs/stable/user_guide/indexing.html#returning-a-view-versus-a-copy\n",
            "  \n"
          ],
          "name": "stderr"
        },
        {
          "output_type": "display_data",
          "data": {
            "image/png": "[encoded data removed]",
            "text/plain": [
              "<Figure size 720x504 with 1 Axes>"
            ]
          },
          "metadata": {
            "tags": [],
            "needs_background": "light"
          }
        }
      ]
    },
    {
      "cell_type": "markdown",
      "metadata": {
        "id": "x_r3359Wf26d",
        "colab_type": "text"
      },
      "source": [
        "Degree levels Baccalaureate had the highest of number of employed in with cluster 0 being the mojarity\n",
        "\n",
        "In cluster 1:Certificate< 1 year\n",
        " and Associates mority were cluster 1"
      ]
    },
    {
      "cell_type": "code",
      "metadata": {
        "id": "x0qzzsYYfvNR",
        "colab_type": "code",
        "colab": {}
      },
      "source": [
        ""
      ],
      "execution_count": 0,
      "outputs": []
    },
    {
      "cell_type": "markdown",
      "metadata": {
        "id": "-GCIn8EMnD8d",
        "colab_type": "text"
      },
      "source": [
        "## Degree levels\n",
        "1:Certificate< 1 year\n",
        "\n",
        "2: Certificate_1-2_years\n",
        "\n",
        "3:Associates\n",
        "\n",
        "4:Certificate_2-4_years\n",
        "\n",
        "5:Baccalaureate\n",
        "\n",
        "6:Post-Bacc Certificate\n",
        "\n",
        "7:Masters\n",
        "\n",
        "8:Post_Masters_Certificate,\n",
        "\n",
        "17:Doctoral_Research_Scholarship\n",
        "\n",
        "18:Doctoral_Professional Practice"
      ]
    },
    {
      "cell_type": "code",
      "metadata": {
        "id": "QjMwdqtvWqVf",
        "colab_type": "code",
        "outputId": "1d13e5b2-1177-458c-f6d0-931c05c29a43",
        "colab": {
          "base_uri": "https://localhost:8080/",
          "height": 585
        }
      },
      "source": [
        "kmc=KMeans(n_clusters=3).fit(df_km)\n",
        "df_km['our labels']=kmc.labels_\n",
        "plt.figure(figsize=(10,7))\n",
        "sns.scatterplot(df_km['y5_grads_emp'],df_km['degree_level'],\n",
        "                hue=df_km['our labels'],palette=sns.color_palette('hls',3))\n",
        "plt.title(' 3 Clusters degee_level employment',fontsize=18)\n",
        "plt.show()"
      ],
      "execution_count": 0,
      "outputs": [
        {
          "output_type": "stream",
          "text": [
            "/usr/local/lib/python3.6/dist-packages/ipykernel_launcher.py:2: SettingWithCopyWarning: \n",
            "A value is trying to be set on a copy of a slice from a DataFrame.\n",
            "Try using .loc[row_indexer,col_indexer] = value instead\n",
            "\n",
            "See the caveats in the documentation: https://pandas.pydata.org/pandas-docs/stable/user_guide/indexing.html#returning-a-view-versus-a-copy\n",
            "  \n"
          ],
          "name": "stderr"
        },
        {
          "output_type": "display_data",
          "data": {
            "image/png": "[encoded data removed]",
            "text/plain": [
              "<Figure size 720x504 with 1 Axes>"
            ]
          },
          "metadata": {
            "tags": [],
            "needs_background": "light"
          }
        }
      ]
    },
    {
      "cell_type": "code",
      "metadata": {
        "id": "g4SRX4ULlKkz",
        "colab_type": "code",
        "outputId": "34d3ce30-be72-4e93-8751-7b2a8d91e547",
        "colab": {
          "base_uri": "https://localhost:8080/",
          "height": 585
        }
      },
      "source": [
        "kmc=KMeans(n_clusters=3).fit(df_km)\n",
        "df_km['our labels']=kmc.labels_\n",
        "plt.figure(figsize=(10,7))\n",
        "sns.scatterplot(df_km['y1_grads_emp_instate'],df_km['degree_level'],\n",
        "                hue=df_km['our labels'],palette=sns.color_palette('hls',3))\n",
        "plt.title(' 3 Clusters degee_level employment in state',fontsize=18)\n",
        "plt.show()"
      ],
      "execution_count": 0,
      "outputs": [
        {
          "output_type": "stream",
          "text": [
            "/usr/local/lib/python3.6/dist-packages/ipykernel_launcher.py:2: SettingWithCopyWarning: \n",
            "A value is trying to be set on a copy of a slice from a DataFrame.\n",
            "Try using .loc[row_indexer,col_indexer] = value instead\n",
            "\n",
            "See the caveats in the documentation: https://pandas.pydata.org/pandas-docs/stable/user_guide/indexing.html#returning-a-view-versus-a-copy\n",
            "  \n"
          ],
          "name": "stderr"
        },
        {
          "output_type": "display_data",
          "data": {
            "image/png": "[encoded data removed]",
            "text/plain": [
              "<Figure size 720x504 with 1 Axes>"
            ]
          },
          "metadata": {
            "tags": [],
            "needs_background": "light"
          }
        }
      ]
    },
    {
      "cell_type": "markdown",
      "metadata": {
        "id": "OlZxyOgT5zsh",
        "colab_type": "text"
      },
      "source": [
        "## Create target column"
      ]
    },
    {
      "cell_type": "code",
      "metadata": {
        "id": "vf8zEk245P8X",
        "colab_type": "code",
        "colab": {}
      },
      "source": [
        "\n",
        "kmeanc=KMeans(n_clusters=3, init='k-means++', n_init=10, max_iter=300, tol=0.0001,verbose=0, random_state=10, copy_x=True, n_jobs=None, algorithm='auto')\n",
        "no_cluster=kmeanc.fit_predict(df_km)"
      ],
      "execution_count": 0,
      "outputs": []
    },
    {
      "cell_type": "code",
      "metadata": {
        "id": "2-n1QcLheFFz",
        "colab_type": "code",
        "outputId": "f8ff91d3-a63b-4830-c00e-d7238e2373e6",
        "colab": {
          "base_uri": "https://localhost:8080/",
          "height": 281
        }
      },
      "source": [
        "df_km['Cluster']=no_cluster\n",
        "df_km.head(3)"
      ],
      "execution_count": 0,
      "outputs": [
        {
          "output_type": "stream",
          "text": [
            "/usr/local/lib/python3.6/dist-packages/ipykernel_launcher.py:1: SettingWithCopyWarning: \n",
            "A value is trying to be set on a copy of a slice from a DataFrame.\n",
            "Try using .loc[row_indexer,col_indexer] = value instead\n",
            "\n",
            "See the caveats in the documentation: https://pandas.pydata.org/pandas-docs/stable/user_guide/indexing.html#returning-a-view-versus-a-copy\n",
            "  \"\"\"Entry point for launching an IPython kernel.\n"
          ],
          "name": "stderr"
        },
        {
          "output_type": "execute_result",
          "data": {
            "text/html": [
              "<div>\n",
              "<style scoped>\n",
              "    .dataframe tbody tr th:only-of-type {\n",
              "        vertical-align: middle;\n",
              "    }\n",
              "\n",
              "    .dataframe tbody tr th {\n",
              "        vertical-align: top;\n",
              "    }\n",
              "\n",
              "    .dataframe thead th {\n",
              "        text-align: right;\n",
              "    }\n",
              "</style>\n",
              "<table border=\"1\" class=\"dataframe\">\n",
              "  <thead>\n",
              "    <tr style=\"text-align: right;\">\n",
              "      <th></th>\n",
              "      <th>institution</th>\n",
              "      <th>degree_level</th>\n",
              "      <th>cip_level</th>\n",
              "      <th>cipcode</th>\n",
              "      <th>grad_cohort</th>\n",
              "      <th>grad_cohort_years</th>\n",
              "      <th>geo_level</th>\n",
              "      <th>geography</th>\n",
              "      <th>ind_level</th>\n",
              "      <th>industry</th>\n",
              "      <th>y1_grads_emp</th>\n",
              "      <th>y1_grads_emp_instate</th>\n",
              "      <th>y5_grads_emp</th>\n",
              "      <th>y5_grads_emp_instate</th>\n",
              "      <th>status_y10_grads_emp</th>\n",
              "      <th>our labels</th>\n",
              "      <th>Cluster</th>\n",
              "    </tr>\n",
              "  </thead>\n",
              "  <tbody>\n",
              "    <tr>\n",
              "      <th>0</th>\n",
              "      <td>1345</td>\n",
              "      <td>3</td>\n",
              "      <td>1</td>\n",
              "      <td>0</td>\n",
              "      <td>0</td>\n",
              "      <td>5</td>\n",
              "      <td>0</td>\n",
              "      <td>0</td>\n",
              "      <td>0</td>\n",
              "      <td>00</td>\n",
              "      <td>961.0</td>\n",
              "      <td>197.0</td>\n",
              "      <td>321.0</td>\n",
              "      <td>78.0</td>\n",
              "      <td>1</td>\n",
              "      <td>1</td>\n",
              "      <td>0</td>\n",
              "    </tr>\n",
              "    <tr>\n",
              "      <th>1</th>\n",
              "      <td>1345</td>\n",
              "      <td>5</td>\n",
              "      <td>1</td>\n",
              "      <td>0</td>\n",
              "      <td>0</td>\n",
              "      <td>3</td>\n",
              "      <td>0</td>\n",
              "      <td>0</td>\n",
              "      <td>0</td>\n",
              "      <td>00</td>\n",
              "      <td>4348.0</td>\n",
              "      <td>2002.0</td>\n",
              "      <td>3691.0</td>\n",
              "      <td>1505.0</td>\n",
              "      <td>1</td>\n",
              "      <td>1</td>\n",
              "      <td>0</td>\n",
              "    </tr>\n",
              "    <tr>\n",
              "      <th>2</th>\n",
              "      <td>1345</td>\n",
              "      <td>7</td>\n",
              "      <td>1</td>\n",
              "      <td>0</td>\n",
              "      <td>0</td>\n",
              "      <td>5</td>\n",
              "      <td>0</td>\n",
              "      <td>0</td>\n",
              "      <td>0</td>\n",
              "      <td>00</td>\n",
              "      <td>3298.0</td>\n",
              "      <td>2311.0</td>\n",
              "      <td>2124.0</td>\n",
              "      <td>1470.0</td>\n",
              "      <td>1</td>\n",
              "      <td>1</td>\n",
              "      <td>0</td>\n",
              "    </tr>\n",
              "  </tbody>\n",
              "</table>\n",
              "</div>"
            ],
            "text/plain": [
              "   institution  degree_level  ... our labels  Cluster\n",
              "0         1345             3  ...          1        0\n",
              "1         1345             5  ...          1        0\n",
              "2         1345             7  ...          1        0\n",
              "\n",
              "[3 rows x 17 columns]"
            ]
          },
          "metadata": {
            "tags": []
          },
          "execution_count": 36
        }
      ]
    },
    {
      "cell_type": "code",
      "metadata": {
        "id": "ype2AM0F8-1V",
        "colab_type": "code",
        "outputId": "e1473e1d-4e24-49b2-f1e0-5c99bf7c7638",
        "colab": {
          "base_uri": "https://localhost:8080/",
          "height": 296
        }
      },
      "source": [
        "sns.countplot(df_km.Cluster)"
      ],
      "execution_count": 0,
      "outputs": [
        {
          "output_type": "execute_result",
          "data": {
            "text/plain": [
              "<matplotlib.axes._subplots.AxesSubplot at 0x7f9a882f06d8>"
            ]
          },
          "metadata": {
            "tags": []
          },
          "execution_count": 37
        },
        {
          "output_type": "display_data",
          "data": {
            "image/png": "[encoded data removed]",
            "text/plain": [
              "<Figure size 432x288 with 1 Axes>"
            ]
          },
          "metadata": {
            "tags": [],
            "needs_background": "light"
          }
        }
      ]
    },
    {
      "cell_type": "code",
      "metadata": {
        "id": "BxVjs8yYfMns",
        "colab_type": "code",
        "colab": {}
      },
      "source": [
        "cluster0_instition=df_km[df_km['Cluster']==0]\n",
        "inst_0=cluster0_instition.groupby('institution')['Cluster'].sum().sort_values(ascending=True)\n",
        "inst_0"
      ],
      "execution_count": 0,
      "outputs": []
    },
    {
      "cell_type": "code",
      "metadata": {
        "id": "so4EL0sTd1aV",
        "colab_type": "code",
        "outputId": "456e22fb-6ccd-4cd2-9b21-3d92bfc7d5a2",
        "colab": {
          "base_uri": "https://localhost:8080/",
          "height": 221
        }
      },
      "source": [
        "inst=df_km.groupby('institution')['Cluster'].value_counts().sort_values(ascending=True)\n",
        "inst.head(10)"
      ],
      "execution_count": 0,
      "outputs": [
        {
          "output_type": "execute_result",
          "data": {
            "text/plain": [
              "institution  Cluster\n",
              "25554        1          1680\n",
              "42087        1          3150\n",
              "12875        2          3360\n",
              "5596         0          4200\n",
              "10019        2          6510\n",
              "1355         0          6720\n",
              "4952         0          7140\n",
              "1359         0          7140\n",
              "9981         2          7350\n",
              "3659         0          7350\n",
              "Name: Cluster, dtype: int64"
            ]
          },
          "metadata": {
            "tags": []
          },
          "execution_count": 40
        }
      ]
    },
    {
      "cell_type": "code",
      "metadata": {
        "id": "92OYfrqpw0GG",
        "colab_type": "code",
        "colab": {}
      },
      "source": [
        "#  Normalization\n",
        "column_names_to_normalize = ['y1_grads_emp', 'y1_grads_emp_instate', 'y5_grads_emp','y5_grads_emp_instate', 'status_y10_grads_emp']\n",
        "\n",
        "df[column_names_to_normalize] = df[column_names_to_normalize].apply(lambda x:(x-x.min()) / (x.max()-x.min()))\n",
        "\n"
      ],
      "execution_count": 0,
      "outputs": []
    },
    {
      "cell_type": "markdown",
      "metadata": {
        "id": "-JmA1LabvTxN",
        "colab_type": "text"
      },
      "source": [
        "## Random Forest Classifier\n",
        "\n",
        "Degree level -Target"
      ]
    },
    {
      "cell_type": "code",
      "metadata": {
        "id": "rxHJWm4JL6Nz",
        "colab_type": "code",
        "outputId": "2c28be4f-30cb-4c63-b952-b07c0f9694b2",
        "colab": {
          "base_uri": "https://localhost:8080/",
          "height": 139
        }
      },
      "source": [
        "dc=['institution', 'degree_level', 'cip_level', 'cipcode', 'grad_cohort','grad_cohort_years', 'geo_level', 'geography', 'ind_level', 'industry','y1_grads_emp']\n",
        "dt=df[dc]\n",
        "dtt=dt.dropna()\n",
        "dtt['y1_grads_emp']=pd.to_numeric(dtt.y1_grads_emp,errors='coerce')"
      ],
      "execution_count": 0,
      "outputs": [
        {
          "output_type": "stream",
          "text": [
            "/usr/local/lib/python3.6/dist-packages/ipykernel_launcher.py:4: SettingWithCopyWarning: \n",
            "A value is trying to be set on a copy of a slice from a DataFrame.\n",
            "Try using .loc[row_indexer,col_indexer] = value instead\n",
            "\n",
            "See the caveats in the documentation: https://pandas.pydata.org/pandas-docs/stable/user_guide/indexing.html#returning-a-view-versus-a-copy\n",
            "  after removing the cwd from sys.path.\n"
          ],
          "name": "stderr"
        }
      ]
    },
    {
      "cell_type": "code",
      "metadata": {
        "id": "xU9lpiUPHPiZ",
        "colab_type": "code",
        "colab": {}
      },
      "source": [
        "from sklearn.ensemble import RandomForestClassifier\n"
      ],
      "execution_count": 0,
      "outputs": []
    },
    {
      "cell_type": "code",
      "metadata": {
        "id": "ok76Jbme5Tad",
        "colab_type": "code",
        "colab": {}
      },
      "source": [
        "dtn=dtt.dropna()"
      ],
      "execution_count": 0,
      "outputs": []
    },
    {
      "cell_type": "code",
      "metadata": {
        "id": "Snw9I2cSkPoo",
        "colab_type": "code",
        "colab": {}
      },
      "source": [
        "dtn.to_csv('empl_random.csv')"
      ],
      "execution_count": 0,
      "outputs": []
    },
    {
      "cell_type": "code",
      "metadata": {
        "id": "LdElTv_RGT8h",
        "colab_type": "code",
        "colab": {}
      },
      "source": [
        "y=dtn['degree_level']\n",
        "X=dtn.drop(columns=['degree_level'],axis=0,index=None)\n",
        "from sklearn.model_selection import train_test_split\n",
        "X_train, X_test,y_train,y_test = train_test_split(X,y,test_size=0.2,random_state=0)"
      ],
      "execution_count": 0,
      "outputs": []
    },
    {
      "cell_type": "code",
      "metadata": {
        "id": "EJRW-snvPG1O",
        "colab_type": "code",
        "colab": {}
      },
      "source": [
        "rad=RandomForestClassifier(n_estimators=100,criterion='gini',min_samples_leaf=1,min_samples_split=2,\n",
        "                           max_features='auto')\n",
        "rad.fit(X_train,y_train)"
      ],
      "execution_count": 0,
      "outputs": []
    },
    {
      "cell_type": "code",
      "metadata": {
        "id": "Z_rtHGNuPGqA",
        "colab_type": "code",
        "colab": {}
      },
      "source": [
        "y_pred = rad.predict(X_test)\n"
      ],
      "execution_count": 0,
      "outputs": []
    },
    {
      "cell_type": "code",
      "metadata": {
        "id": "qpx7WH8IPGlQ",
        "colab_type": "code",
        "outputId": "1ba45675-9cbc-4eab-eccd-cdc2e7380523",
        "colab": {
          "base_uri": "https://localhost:8080/",
          "height": 34
        }
      },
      "source": [
        "from sklearn import metrics\n",
        "# Model Accuracy, how often is the classifier correct?\n",
        "print(\"Accuracy:\",metrics.accuracy_score(y_test, y_pred)*100)"
      ],
      "execution_count": 0,
      "outputs": [
        {
          "output_type": "stream",
          "text": [
            "Accuracy: 67.72458952816714\n"
          ],
          "name": "stdout"
        }
      ]
    },
    {
      "cell_type": "code",
      "metadata": {
        "id": "jyv-mNHnxz6m",
        "colab_type": "code",
        "colab": {}
      },
      "source": [
        "from sklearn.metrics import plot_confusion_matrix\n",
        "metrics.confusion_matrix(y_test,y_pred)"
      ],
      "execution_count": 0,
      "outputs": []
    },
    {
      "cell_type": "markdown",
      "metadata": {
        "id": "VXG8WqYr4b3d",
        "colab_type": "text"
      },
      "source": [
        "# Decision Tree Classifier"
      ]
    },
    {
      "cell_type": "code",
      "metadata": {
        "id": "zd2cBgDCK9z6",
        "colab_type": "code",
        "colab": {}
      },
      "source": [
        "df['y1_grads_emp_instate']=pd.to_numeric(df.y1_grads_emp_instate,errors='coerce')\n"
      ],
      "execution_count": 0,
      "outputs": []
    },
    {
      "cell_type": "code",
      "metadata": {
        "id": "hhChLEzGLMD_",
        "colab_type": "code",
        "colab": {}
      },
      "source": [
        "df['y5_grads_emp']=pd.to_numeric(df.y5_grads_emp,errors='coerce')\n"
      ],
      "execution_count": 0,
      "outputs": []
    },
    {
      "cell_type": "code",
      "metadata": {
        "id": "L5WiWtrnLLzQ",
        "colab_type": "code",
        "colab": {}
      },
      "source": [
        "df['y5_grads_emp_instate']=pd.to_numeric(df.y5_grads_emp_instate,errors='coerce')\n"
      ],
      "execution_count": 0,
      "outputs": []
    },
    {
      "cell_type": "code",
      "metadata": {
        "id": "xIG9wugFz1j4",
        "colab_type": "code",
        "colab": {}
      },
      "source": [
        "b=dtn['degree_level']\n",
        "a=dtn.drop(columns=['degree_level'],axis=0,index=None)\n",
        "from sklearn.model_selection import train_test_split\n",
        "a_train, a_test,b_train,b_test = train_test_split(a,b,test_size=0.2,random_state=0)"
      ],
      "execution_count": 0,
      "outputs": []
    },
    {
      "cell_type": "code",
      "metadata": {
        "id": "G5KPf_C0nrXU",
        "colab_type": "code",
        "colab": {}
      },
      "source": [
        "from sklearn.tree import DecisionTreeClassifier\n"
      ],
      "execution_count": 0,
      "outputs": []
    },
    {
      "cell_type": "code",
      "metadata": {
        "id": "Nhmga0GT9Ukn",
        "colab_type": "code",
        "colab": {}
      },
      "source": [
        "dtc=DecisionTreeClassifier(criterion='gini', splitter='best', max_depth=300, min_samples_split=2, min_samples_leaf=1,\n",
        "                           min_weight_fraction_leaf=0.0, max_features=None, random_state=None, max_leaf_nodes=None,\n",
        "                           min_impurity_decrease=0.0, min_impurity_split=None, class_weight=None, presort='deprecated', ccp_alpha=0.0)\n",
        "dtc.fit(a_train,b_train)"
      ],
      "execution_count": 0,
      "outputs": []
    },
    {
      "cell_type": "code",
      "metadata": {
        "id": "z2cM_V8czK1K",
        "colab_type": "code",
        "colab": {}
      },
      "source": [
        "dtc_y=dtc.predict(a_test)"
      ],
      "execution_count": 0,
      "outputs": []
    },
    {
      "cell_type": "code",
      "metadata": {
        "id": "Pv4F7xrQzWvT",
        "colab_type": "code",
        "outputId": "74ed6fb3-3d33-4fd9-e88e-2f7d3157d086",
        "colab": {
          "base_uri": "https://localhost:8080/",
          "height": 34
        }
      },
      "source": [
        "# Model Accuracy, how often is the classifier correct?\n",
        "print(\"Accuracy:\",metrics.accuracy_score(b_test, dtc_y)*100)"
      ],
      "execution_count": 0,
      "outputs": [
        {
          "output_type": "stream",
          "text": [
            "Accuracy: 68.38052407641507\n"
          ],
          "name": "stdout"
        }
      ]
    },
    {
      "cell_type": "markdown",
      "metadata": {
        "id": "6md2u1Ikcgum",
        "colab_type": "text"
      },
      "source": [
        "# Decision Tree Regressor\n",
        "\n",
        "Predicting number of graduates emloyment opportunity after graduation"
      ]
    },
    {
      "cell_type": "code",
      "metadata": {
        "id": "63VKm-uxuHwP",
        "colab_type": "code",
        "colab": {}
      },
      "source": [
        "# Create a decision tree classifier\n",
        "from sklearn.tree import DecisionTreeRegressor\n",
        "tree = DecisionTreeRegressor(criterion='mse',splitter='best', random_state=1,min_samples_split=2)"
      ],
      "execution_count": 0,
      "outputs": []
    },
    {
      "cell_type": "code",
      "metadata": {
        "id": "mDusqe8aJApC",
        "colab_type": "code",
        "colab": {}
      },
      "source": [
        "y=dtn['y1_grads_emp']\n",
        "X=dtn.drop(columns=['y1_grads_emp'],axis=0,index=None)\n",
        "from sklearn.model_selection import train_test_split\n",
        "X_train, X_test,y_train,y_test = train_test_split(X,y,test_size=0.2,random_state=0)"
      ],
      "execution_count": 0,
      "outputs": []
    },
    {
      "cell_type": "code",
      "metadata": {
        "id": "BGV0yrV2MVod",
        "colab_type": "code",
        "outputId": "79ddc2bc-a51d-4d4b-f86b-8b8b4419ea59",
        "colab": {
          "base_uri": "https://localhost:8080/",
          "height": 119
        }
      },
      "source": [
        "tree.fit(X_train,y_train)"
      ],
      "execution_count": 0,
      "outputs": [
        {
          "output_type": "execute_result",
          "data": {
            "text/plain": [
              "DecisionTreeRegressor(ccp_alpha=0.0, criterion='mse', max_depth=None,\n",
              "                      max_features=None, max_leaf_nodes=None,\n",
              "                      min_impurity_decrease=0.0, min_impurity_split=None,\n",
              "                      min_samples_leaf=1, min_samples_split=2,\n",
              "                      min_weight_fraction_leaf=0.0, presort='deprecated',\n",
              "                      random_state=1, splitter='best')"
            ]
          },
          "metadata": {
            "tags": []
          },
          "execution_count": 80
        }
      ]
    },
    {
      "cell_type": "code",
      "metadata": {
        "id": "MsRBs5TXMqTy",
        "colab_type": "code",
        "colab": {}
      },
      "source": [
        "y_pred=tree.predict(X_test)\n",
        "# y_pred =tree.predict(X_test)"
      ],
      "execution_count": 0,
      "outputs": []
    },
    {
      "cell_type": "code",
      "metadata": {
        "id": "WH7k8wTKMnJy",
        "colab_type": "code",
        "colab": {}
      },
      "source": [
        "comparison_frame = pd.DataFrame({'Actual': y_test, 'Predicted': y_pred})\n",
        "\n"
      ],
      "execution_count": 0,
      "outputs": []
    },
    {
      "cell_type": "code",
      "metadata": {
        "id": "mTYsi00HM0qn",
        "colab_type": "code",
        "outputId": "9d3b380f-6d7e-4dfc-bcca-716344f60f23",
        "colab": {
          "base_uri": "https://localhost:8080/",
          "height": 297
        }
      },
      "source": [
        "comparison_frame.describe()"
      ],
      "execution_count": 0,
      "outputs": [
        {
          "output_type": "execute_result",
          "data": {
            "text/html": [
              "<div>\n",
              "<style scoped>\n",
              "    .dataframe tbody tr th:only-of-type {\n",
              "        vertical-align: middle;\n",
              "    }\n",
              "\n",
              "    .dataframe tbody tr th {\n",
              "        vertical-align: top;\n",
              "    }\n",
              "\n",
              "    .dataframe thead th {\n",
              "        text-align: right;\n",
              "    }\n",
              "</style>\n",
              "<table border=\"1\" class=\"dataframe\">\n",
              "  <thead>\n",
              "    <tr style=\"text-align: right;\">\n",
              "      <th></th>\n",
              "      <th>Actual</th>\n",
              "      <th>Predicted</th>\n",
              "    </tr>\n",
              "  </thead>\n",
              "  <tbody>\n",
              "    <tr>\n",
              "      <th>count</th>\n",
              "      <td>268167.000000</td>\n",
              "      <td>268167.000000</td>\n",
              "    </tr>\n",
              "    <tr>\n",
              "      <th>mean</th>\n",
              "      <td>0.000139</td>\n",
              "      <td>0.000141</td>\n",
              "    </tr>\n",
              "    <tr>\n",
              "      <th>std</th>\n",
              "      <td>0.002531</td>\n",
              "      <td>0.002242</td>\n",
              "    </tr>\n",
              "    <tr>\n",
              "      <th>min</th>\n",
              "      <td>0.000000</td>\n",
              "      <td>0.000000</td>\n",
              "    </tr>\n",
              "    <tr>\n",
              "      <th>25%</th>\n",
              "      <td>0.000000</td>\n",
              "      <td>0.000016</td>\n",
              "    </tr>\n",
              "    <tr>\n",
              "      <th>50%</th>\n",
              "      <td>0.000000</td>\n",
              "      <td>0.000016</td>\n",
              "    </tr>\n",
              "    <tr>\n",
              "      <th>75%</th>\n",
              "      <td>0.000008</td>\n",
              "      <td>0.000016</td>\n",
              "    </tr>\n",
              "    <tr>\n",
              "      <th>max</th>\n",
              "      <td>0.544623</td>\n",
              "      <td>0.358597</td>\n",
              "    </tr>\n",
              "  </tbody>\n",
              "</table>\n",
              "</div>"
            ],
            "text/plain": [
              "              Actual      Predicted\n",
              "count  268167.000000  268167.000000\n",
              "mean        0.000139       0.000141\n",
              "std         0.002531       0.002242\n",
              "min         0.000000       0.000000\n",
              "25%         0.000000       0.000016\n",
              "50%         0.000000       0.000016\n",
              "75%         0.000008       0.000016\n",
              "max         0.544623       0.358597"
            ]
          },
          "metadata": {
            "tags": []
          },
          "execution_count": 83
        }
      ]
    },
    {
      "cell_type": "code",
      "metadata": {
        "id": "_mXCMzk9M5gg",
        "colab_type": "code",
        "outputId": "b3fe8838-539e-435d-c4e8-39bcba986112",
        "colab": {
          "base_uri": "https://localhost:8080/",
          "height": 85
        }
      },
      "source": [
        "from sklearn import metrics\n",
        "\n",
        "print('Mean Absolute Error:', metrics.mean_absolute_error(y_test, y_pred))  \n",
        "print('Mean Squared Error:MSE', metrics.mean_squared_error(y_test, y_pred))  \n",
        "print('Root Mean Squared Error:RMSE', np.sqrt(metrics.mean_squared_error(y_test, y_pred)))\n",
        "print('R_squared:r2:',metrics.r2_score(y_test,y_pred)*100\n",
        ")\n",
        "\n"
      ],
      "execution_count": 0,
      "outputs": [
        {
          "output_type": "stream",
          "text": [
            "Mean Absolute Error: 0.00010710884770334788\n",
            "Mean Squared Error:MSE 4.768212710821589e-06\n",
            "Root Mean Squared Error:RMSE 0.0021836237566993056\n",
            "R_squared:r2: 25.587514618939466\n"
          ],
          "name": "stdout"
        }
      ]
    },
    {
      "cell_type": "markdown",
      "metadata": {
        "id": "sHjWNRFDNRTD",
        "colab_type": "text"
      },
      "source": [
        "* MSE (Mean Squared Error) represents the difference between the original and predicted values extracted by squared the average difference over the data set.\n",
        "* RMSE (Root Mean Squared Error) is the error rate by the square root of MSE.\n",
        "* R-squared (Coefficient of determination) represents the coefficient of how well the values fit compared to the original values. The value from 0 to 1 interpreted as percentages. The higher the value is, the better the model is."
      ]
    },
    {
      "cell_type": "code",
      "metadata": {
        "id": "N0qMIsrTNDt1",
        "colab_type": "code",
        "colab": {}
      },
      "source": [
        ""
      ],
      "execution_count": 0,
      "outputs": []
    },
    {
      "cell_type": "code",
      "metadata": {
        "id": "aSAkKR4aOjhY",
        "colab_type": "code",
        "colab": {}
      },
      "source": [
        ""
      ],
      "execution_count": 0,
      "outputs": []
    }
  ]
}